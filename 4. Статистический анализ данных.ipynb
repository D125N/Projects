{
 "cells": [
  {
   "cell_type": "markdown",
   "id": "77ebb834",
   "metadata": {},
   "source": [
    "## Проект: Статистический анализ данных"
   ]
  },
  {
   "cell_type": "markdown",
   "id": "dcf2fffd",
   "metadata": {},
   "source": [
    "### Основная цель проекта: проанализировать данные сервиса аренды самокатов GoFast и проверить некоторые гипотезы, которые могут помочь бизнесу вырасти."
   ]
  },
  {
   "cell_type": "markdown",
   "id": "002782b2",
   "metadata": {},
   "source": [
    "Чтобы совершать поездки по городу, пользователи сервиса GoFast пользуются мобильным приложением.\n",
    "\n",
    "Сервисом можно пользоваться:\n",
    "\n",
    "без подписки:\n",
    "- абонентская плата отсутствует;\n",
    "- стоимость одной минуты поездки — 8 рублей;\n",
    "- стоимость старта (начала поездки) — 50 рублей;\n",
    "\n",
    "с подпиской Ultra:\n",
    "- абонентская плата — 199 рублей в месяц;\n",
    "- стоимость одной минуты поездки — 6 рублей;\n",
    "- стоимость старта — бесплатно."
   ]
  },
  {
   "cell_type": "markdown",
   "id": "61ec0dde",
   "metadata": {},
   "source": [
    "### Описание данных\n",
    "\n",
    "Пользователи — users_go.csv\n",
    "\n",
    "- user_id — уникальный идентификатор пользователя\n",
    "- name — имя пользователя\n",
    "- age — возраст\n",
    "- city — город\n",
    "- subscription_type — тип подписки (free, ultra)\n",
    "\n",
    "Поeздки — rides_go.csv\n",
    "\n",
    "- user_id — уникальный идентификатор пользователя\n",
    "- distance — расстояние, которое пользователь проехал в текущей сессии (в метрах)\n",
    "- duration — продолжительность сессии (в минутах) — время с того момента, как пользователь нажал кнопку «Начать поездку» до момента, как он нажал кнопку «Завершить поездку»\n",
    "- date — дата совершения поездки\n",
    "\n",
    "Подписки — subscriptions_go.csv\n",
    "\n",
    "- subscription_type — тип подписки\n",
    "- minute_price — стоимость одной минуты поездки по данной подписке\n",
    "- start_ride_price — стоимость начала поездки\n",
    "- subscription_fee — стоимость ежемесячного платежа"
   ]
  },
  {
   "cell_type": "markdown",
   "id": "dd882ada",
   "metadata": {},
   "source": [
    "### Основные этапы проекта:\n",
    "- Изучить данные\n",
    "- Привести их в пригодный для анализа формат\n",
    "- Проверить предлагаемые гипотезы\n",
    "- Сделать вывод на основе полученных результатов"
   ]
  },
  {
   "cell_type": "code",
   "execution_count": 1,
   "id": "72576667",
   "metadata": {},
   "outputs": [],
   "source": [
    "# Импортируем библиотеки\n",
    "import pandas as pd\n",
    "import matplotlib.pyplot as plt\n",
    "import numpy as np\n",
    "from scipy import stats as st\n",
    "from scipy.stats import binom"
   ]
  },
  {
   "cell_type": "markdown",
   "id": "c42cbe00",
   "metadata": {},
   "source": [
    "#### Шаг 1. Загрузка данных"
   ]
  },
  {
   "cell_type": "markdown",
   "id": "28cae6c2",
   "metadata": {},
   "source": [
    "1.1 Считаем CSV-файлы с данными зададим переменные, отобразим первые строки"
   ]
  },
  {
   "cell_type": "code",
   "execution_count": 2,
   "id": "a4bb179f",
   "metadata": {},
   "outputs": [],
   "source": [
    "# Загружаем датафреймы\n",
    "try:\n",
    "    users_go = pd.read_csv('/datasets/users_go.csv')\n",
    "    rides_go = pd.read_csv('/datasets/rides_go.csv')\n",
    "    subscriptions_go = pd.read_csv('/datasets/subscriptions_go.csv')\n",
    "except:\n",
    "    users_go = pd.read_csv('https://code.s3.yandex.net/datasets/users_go.csv')\n",
    "    rides_go = pd.read_csv('https://code.s3.yandex.net/datasets/rides_go.csv')\n",
    "    subscriptions_go = pd.read_csv('https://code.s3.yandex.net/datasets/subscriptions_go.csv')"
   ]
  },
  {
   "cell_type": "markdown",
   "id": "6536613b",
   "metadata": {},
   "source": [
    "1.2 Изучим общую информацию о каждом датафрейме"
   ]
  },
  {
   "cell_type": "code",
   "execution_count": 3,
   "id": "7290246a",
   "metadata": {},
   "outputs": [],
   "source": [
    "# Отображение всех колонок при выводе на печать\n",
    "pd.set_option('display.max_columns', None)"
   ]
  },
  {
   "cell_type": "code",
   "execution_count": 4,
   "id": "ec67cd2f",
   "metadata": {},
   "outputs": [
    {
     "name": "stdout",
     "output_type": "stream",
     "text": [
      "<class 'pandas.core.frame.DataFrame'>\n",
      "RangeIndex: 1565 entries, 0 to 1564\n",
      "Data columns (total 5 columns):\n",
      " #   Column             Non-Null Count  Dtype \n",
      "---  ------             --------------  ----- \n",
      " 0   user_id            1565 non-null   int64 \n",
      " 1   name               1565 non-null   object\n",
      " 2   age                1565 non-null   int64 \n",
      " 3   city               1565 non-null   object\n",
      " 4   subscription_type  1565 non-null   object\n",
      "dtypes: int64(2), object(3)\n",
      "memory usage: 412.6 KB\n",
      "None\n",
      "\n",
      "           user_id          age\n",
      "count  1565.000000  1565.000000\n",
      "mean    762.633866    24.922045\n",
      "std     443.260155     4.553496\n",
      "min       1.000000    12.000000\n",
      "25%     378.000000    22.000000\n",
      "50%     762.000000    25.000000\n",
      "75%    1146.000000    28.000000\n",
      "max    1534.000000    43.000000\n"
     ]
    },
    {
     "data": {
      "text/html": [
       "<div>\n",
       "<style scoped>\n",
       "    .dataframe tbody tr th:only-of-type {\n",
       "        vertical-align: middle;\n",
       "    }\n",
       "\n",
       "    .dataframe tbody tr th {\n",
       "        vertical-align: top;\n",
       "    }\n",
       "\n",
       "    .dataframe thead th {\n",
       "        text-align: right;\n",
       "    }\n",
       "</style>\n",
       "<table border=\"1\" class=\"dataframe\">\n",
       "  <thead>\n",
       "    <tr style=\"text-align: right;\">\n",
       "      <th></th>\n",
       "      <th>user_id</th>\n",
       "      <th>name</th>\n",
       "      <th>age</th>\n",
       "      <th>city</th>\n",
       "      <th>subscription_type</th>\n",
       "    </tr>\n",
       "  </thead>\n",
       "  <tbody>\n",
       "    <tr>\n",
       "      <th>0</th>\n",
       "      <td>1</td>\n",
       "      <td>Кира</td>\n",
       "      <td>22</td>\n",
       "      <td>Тюмень</td>\n",
       "      <td>ultra</td>\n",
       "    </tr>\n",
       "    <tr>\n",
       "      <th>1</th>\n",
       "      <td>2</td>\n",
       "      <td>Станислав</td>\n",
       "      <td>31</td>\n",
       "      <td>Омск</td>\n",
       "      <td>ultra</td>\n",
       "    </tr>\n",
       "    <tr>\n",
       "      <th>2</th>\n",
       "      <td>3</td>\n",
       "      <td>Алексей</td>\n",
       "      <td>20</td>\n",
       "      <td>Москва</td>\n",
       "      <td>ultra</td>\n",
       "    </tr>\n",
       "    <tr>\n",
       "      <th>3</th>\n",
       "      <td>4</td>\n",
       "      <td>Константин</td>\n",
       "      <td>26</td>\n",
       "      <td>Ростов-на-Дону</td>\n",
       "      <td>ultra</td>\n",
       "    </tr>\n",
       "    <tr>\n",
       "      <th>4</th>\n",
       "      <td>5</td>\n",
       "      <td>Адель</td>\n",
       "      <td>28</td>\n",
       "      <td>Омск</td>\n",
       "      <td>ultra</td>\n",
       "    </tr>\n",
       "  </tbody>\n",
       "</table>\n",
       "</div>"
      ],
      "text/plain": [
       "   user_id        name  age            city subscription_type\n",
       "0        1        Кира   22          Тюмень             ultra\n",
       "1        2   Станислав   31            Омск             ultra\n",
       "2        3     Алексей   20          Москва             ultra\n",
       "3        4  Константин   26  Ростов-на-Дону             ultra\n",
       "4        5       Адель   28            Омск             ultra"
      ]
     },
     "execution_count": 4,
     "metadata": {},
     "output_type": "execute_result"
    },
    {
     "data": {
      "image/png": "[encoded data removed]",
      "text/plain": [
       "<Figure size 432x288 with 2 Axes>"
      ]
     },
     "metadata": {
      "needs_background": "light"
     },
     "output_type": "display_data"
    }
   ],
   "source": [
    "# Изучение датафрейма 'users_go' \n",
    "print(users_go.info(memory_usage='deep')) \n",
    "print()\n",
    "print(users_go.describe())\n",
    "users_go.hist()\n",
    "users_go.head()"
   ]
  },
  {
   "cell_type": "code",
   "execution_count": 5,
   "id": "e8fbcb85",
   "metadata": {},
   "outputs": [
    {
     "name": "stdout",
     "output_type": "stream",
     "text": [
      "1534 уникальных значений в 1565 строках\n",
      "От 1 до 1534\n"
     ]
    }
   ],
   "source": [
    "# Уникальные идентификаторы\n",
    "print(len(users_go['user_id'].unique()), 'уникальных значений в', users_go['user_id'].count(), 'строках')\n",
    "print('От', users_go['user_id'].min(), 'до', users_go['user_id'].max())"
   ]
  },
  {
   "cell_type": "code",
   "execution_count": 6,
   "id": "15d0d1a1",
   "metadata": {},
   "outputs": [
    {
     "name": "stdout",
     "output_type": "stream",
     "text": [
      "29 уникальных значений в 1565 строках\n",
      "От 12 до 43\n"
     ]
    }
   ],
   "source": [
    "# Уникальные возрасты\n",
    "print(len(users_go['age'].unique()), 'уникальных значений в', users_go['age'].count(), 'строках')\n",
    "print('От', users_go['age'].min(), 'до', users_go['age'].max())"
   ]
  },
  {
   "cell_type": "code",
   "execution_count": 7,
   "id": "89d92afd",
   "metadata": {},
   "outputs": [
    {
     "data": {
      "text/plain": [
       "array(['Тюмень', 'Омск', 'Москва', 'Ростов-на-Дону', 'Краснодар',\n",
       "       'Пятигорск', 'Екатеринбург', 'Сочи'], dtype=object)"
      ]
     },
     "execution_count": 7,
     "metadata": {},
     "output_type": "execute_result"
    }
   ],
   "source": [
    "# Уникальные названия населенных пунктов\n",
    "users_go['city'].unique()"
   ]
  },
  {
   "cell_type": "code",
   "execution_count": 8,
   "id": "3877dfd6",
   "metadata": {},
   "outputs": [
    {
     "data": {
      "text/plain": [
       "array(['ultra', 'free'], dtype=object)"
      ]
     },
     "execution_count": 8,
     "metadata": {},
     "output_type": "execute_result"
    }
   ],
   "source": [
    "# Уникальные типы\n",
    "users_go['subscription_type'].unique()"
   ]
  },
  {
   "cell_type": "code",
   "execution_count": 9,
   "id": "72eeaeb5",
   "metadata": {},
   "outputs": [
    {
     "name": "stdout",
     "output_type": "stream",
     "text": [
      "<class 'pandas.core.frame.DataFrame'>\n",
      "RangeIndex: 18068 entries, 0 to 18067\n",
      "Data columns (total 4 columns):\n",
      " #   Column    Non-Null Count  Dtype  \n",
      "---  ------    --------------  -----  \n",
      " 0   user_id   18068 non-null  int64  \n",
      " 1   distance  18068 non-null  float64\n",
      " 2   duration  18068 non-null  float64\n",
      " 3   date      18068 non-null  object \n",
      "dtypes: float64(2), int64(1), object(1)\n",
      "memory usage: 564.8+ KB\n",
      "None\n",
      "\n",
      "            user_id      distance      duration\n",
      "count  18068.000000  18068.000000  18068.000000\n",
      "mean     842.869936   3070.659976     17.805011\n",
      "std      434.734317   1116.831209      6.091051\n",
      "min        1.000000      0.855683      0.500000\n",
      "25%      487.000000   2543.226360     13.597563\n",
      "50%      889.000000   3133.609994     17.678395\n",
      "75%     1213.250000   3776.222735     21.724800\n",
      "max     1534.000000   7211.007745     40.823963\n"
     ]
    },
    {
     "data": {
      "text/html": [
       "<div>\n",
       "<style scoped>\n",
       "    .dataframe tbody tr th:only-of-type {\n",
       "        vertical-align: middle;\n",
       "    }\n",
       "\n",
       "    .dataframe tbody tr th {\n",
       "        vertical-align: top;\n",
       "    }\n",
       "\n",
       "    .dataframe thead th {\n",
       "        text-align: right;\n",
       "    }\n",
       "</style>\n",
       "<table border=\"1\" class=\"dataframe\">\n",
       "  <thead>\n",
       "    <tr style=\"text-align: right;\">\n",
       "      <th></th>\n",
       "      <th>user_id</th>\n",
       "      <th>distance</th>\n",
       "      <th>duration</th>\n",
       "      <th>date</th>\n",
       "    </tr>\n",
       "  </thead>\n",
       "  <tbody>\n",
       "    <tr>\n",
       "      <th>0</th>\n",
       "      <td>1</td>\n",
       "      <td>4409.919140</td>\n",
       "      <td>25.599769</td>\n",
       "      <td>2021-01-01</td>\n",
       "    </tr>\n",
       "    <tr>\n",
       "      <th>1</th>\n",
       "      <td>1</td>\n",
       "      <td>2617.592153</td>\n",
       "      <td>15.816871</td>\n",
       "      <td>2021-01-18</td>\n",
       "    </tr>\n",
       "    <tr>\n",
       "      <th>2</th>\n",
       "      <td>1</td>\n",
       "      <td>754.159807</td>\n",
       "      <td>6.232113</td>\n",
       "      <td>2021-04-20</td>\n",
       "    </tr>\n",
       "    <tr>\n",
       "      <th>3</th>\n",
       "      <td>1</td>\n",
       "      <td>2694.783254</td>\n",
       "      <td>18.511000</td>\n",
       "      <td>2021-08-11</td>\n",
       "    </tr>\n",
       "    <tr>\n",
       "      <th>4</th>\n",
       "      <td>1</td>\n",
       "      <td>4028.687306</td>\n",
       "      <td>26.265803</td>\n",
       "      <td>2021-08-28</td>\n",
       "    </tr>\n",
       "  </tbody>\n",
       "</table>\n",
       "</div>"
      ],
      "text/plain": [
       "   user_id     distance   duration        date\n",
       "0        1  4409.919140  25.599769  2021-01-01\n",
       "1        1  2617.592153  15.816871  2021-01-18\n",
       "2        1   754.159807   6.232113  2021-04-20\n",
       "3        1  2694.783254  18.511000  2021-08-11\n",
       "4        1  4028.687306  26.265803  2021-08-28"
      ]
     },
     "execution_count": 9,
     "metadata": {},
     "output_type": "execute_result"
    },
    {
     "data": {
      "image/png": "[encoded data removed]",
      "text/plain": [
       "<Figure size 432x288 with 4 Axes>"
      ]
     },
     "metadata": {
      "needs_background": "light"
     },
     "output_type": "display_data"
    }
   ],
   "source": [
    "# Изучение датафрейма 'rides_go' \n",
    "print(rides_go.info())\n",
    "print()\n",
    "print(rides_go.describe())\n",
    "rides_go.hist() \n",
    "rides_go.head()"
   ]
  },
  {
   "cell_type": "code",
   "execution_count": 10,
   "id": "4a648193",
   "metadata": {},
   "outputs": [
    {
     "name": "stdout",
     "output_type": "stream",
     "text": [
      "1534 уникальных идентификаторов из 18068 строк\n",
      "От 1 до 1534\n"
     ]
    }
   ],
   "source": [
    "# Уникальные идентификаторы\n",
    "print(len(rides_go['user_id'].unique()), 'уникальных идентификаторов из', rides_go['user_id'].count(), 'строк')\n",
    "print('От', rides_go['user_id'].min(), 'до', rides_go['user_id'].max())"
   ]
  },
  {
   "cell_type": "code",
   "execution_count": 11,
   "id": "1f3ada83",
   "metadata": {},
   "outputs": [
    {
     "name": "stdout",
     "output_type": "stream",
     "text": [
      "<class 'pandas.core.frame.DataFrame'>\n",
      "RangeIndex: 2 entries, 0 to 1\n",
      "Data columns (total 4 columns):\n",
      " #   Column             Non-Null Count  Dtype \n",
      "---  ------             --------------  ----- \n",
      " 0   subscription_type  2 non-null      object\n",
      " 1   minute_price       2 non-null      int64 \n",
      " 2   start_ride_price   2 non-null      int64 \n",
      " 3   subscription_fee   2 non-null      int64 \n",
      "dtypes: int64(3), object(1)\n",
      "memory usage: 192.0+ bytes\n",
      "None\n"
     ]
    },
    {
     "data": {
      "text/html": [
       "<div>\n",
       "<style scoped>\n",
       "    .dataframe tbody tr th:only-of-type {\n",
       "        vertical-align: middle;\n",
       "    }\n",
       "\n",
       "    .dataframe tbody tr th {\n",
       "        vertical-align: top;\n",
       "    }\n",
       "\n",
       "    .dataframe thead th {\n",
       "        text-align: right;\n",
       "    }\n",
       "</style>\n",
       "<table border=\"1\" class=\"dataframe\">\n",
       "  <thead>\n",
       "    <tr style=\"text-align: right;\">\n",
       "      <th></th>\n",
       "      <th>subscription_type</th>\n",
       "      <th>minute_price</th>\n",
       "      <th>start_ride_price</th>\n",
       "      <th>subscription_fee</th>\n",
       "    </tr>\n",
       "  </thead>\n",
       "  <tbody>\n",
       "    <tr>\n",
       "      <th>0</th>\n",
       "      <td>free</td>\n",
       "      <td>8</td>\n",
       "      <td>50</td>\n",
       "      <td>0</td>\n",
       "    </tr>\n",
       "    <tr>\n",
       "      <th>1</th>\n",
       "      <td>ultra</td>\n",
       "      <td>6</td>\n",
       "      <td>0</td>\n",
       "      <td>199</td>\n",
       "    </tr>\n",
       "  </tbody>\n",
       "</table>\n",
       "</div>"
      ],
      "text/plain": [
       "  subscription_type  minute_price  start_ride_price  subscription_fee\n",
       "0              free             8                50                 0\n",
       "1             ultra             6                 0               199"
      ]
     },
     "execution_count": 11,
     "metadata": {},
     "output_type": "execute_result"
    }
   ],
   "source": [
    "# Изучение датафрейма 'subscriptions_go' \n",
    "print(subscriptions_go.info())\n",
    "subscriptions_go.head() "
   ]
  },
  {
   "cell_type": "markdown",
   "id": "4d5c2c94",
   "metadata": {},
   "source": [
    "#### Вывод по загрузке данных:\n",
    "+ Датафрейм ‘users_go’ имеет 5 столбцов и 1565 строк без пропусков и выбросов. Названия столбцов соответствуют ‘змеиному’ стилю. Есть дубликаты идентификаторов в столбце ‘user_id’.\n",
    "+ Датафрейм ‘rides_go’ имеет 4 столбца и 18068 строк без пропусков и выбросов. Названия столбцов соответствуют ‘змеиному’ стилю. Возможно наличие выбросов в столбцах ‘distance’ и ‘duration’.\n",
    "+ Датафрейм 'subscriptions_go' имеет 4 столбца и 2 строки без пропусков и выбросов. Названия столбцов соответствуют ‘змеиному’ стилю."
   ]
  },
  {
   "cell_type": "markdown",
   "id": "e95ebca7",
   "metadata": {},
   "source": [
    "#### Шаг 2. Предобработка данных"
   ]
  },
  {
   "cell_type": "code",
   "execution_count": 12,
   "id": "67811501",
   "metadata": {},
   "outputs": [],
   "source": [
    "# Добавление столбца 'month' с номером месяца в датафейм 'rides_go'\n",
    "rides_go['distance'] = rides_go['distance'].round(2)\n",
    "rides_go['duration'] = np.ceil(rides_go['duration']).astype('int')\n",
    "rides_go['date'] = pd.to_datetime(rides_go['date'], format='%Y-%m-%d')\n",
    "rides_go['month'] = rides_go['date'].dt.month"
   ]
  },
  {
   "cell_type": "code",
   "execution_count": 13,
   "id": "51fb9be0",
   "metadata": {},
   "outputs": [
    {
     "name": "stdout",
     "output_type": "stream",
     "text": [
      "Записи с  2021-01-01 00:00:00 по 2021-12-30 00:00:00\n"
     ]
    }
   ],
   "source": [
    "print('Записи с ', rides_go['date'].min(), 'по', rides_go['date'].max())"
   ]
  },
  {
   "cell_type": "code",
   "execution_count": 14,
   "id": "b2c7a90c",
   "metadata": {},
   "outputs": [],
   "source": [
    "# Удаление дубликатов идентификаторов в столбце 'user_id' датафрейма 'users_go'\n",
    "users_go = users_go.sort_values(by='user_id').loc[users_go['user_id'].duplicated() == False]"
   ]
  },
  {
   "cell_type": "code",
   "execution_count": 15,
   "id": "c27d24f3",
   "metadata": {},
   "outputs": [
    {
     "data": {
      "text/plain": [
       "user_id              0\n",
       "name                 0\n",
       "age                  0\n",
       "city                 0\n",
       "subscription_type    0\n",
       "dtype: int64"
      ]
     },
     "execution_count": 15,
     "metadata": {},
     "output_type": "execute_result"
    }
   ],
   "source": [
    "# Проверка наличия дубликатов в 'users_go'\n",
    "users_go.sort_values(by='user_id').loc[users_go['user_id'].duplicated() == True].count()"
   ]
  },
  {
   "cell_type": "code",
   "execution_count": 16,
   "id": "7f4da855",
   "metadata": {},
   "outputs": [
    {
     "name": "stdout",
     "output_type": "stream",
     "text": [
      "<class 'pandas.core.frame.DataFrame'>\n",
      "Int64Index: 1534 entries, 0 to 1533\n",
      "Data columns (total 5 columns):\n",
      " #   Column             Non-Null Count  Dtype \n",
      "---  ------             --------------  ----- \n",
      " 0   user_id            1534 non-null   int64 \n",
      " 1   name               1534 non-null   object\n",
      " 2   age                1534 non-null   int64 \n",
      " 3   city               1534 non-null   object\n",
      " 4   subscription_type  1534 non-null   object\n",
      "dtypes: int64(2), object(3)\n",
      "memory usage: 71.9+ KB\n"
     ]
    },
    {
     "data": {
      "text/html": [
       "<div>\n",
       "<style scoped>\n",
       "    .dataframe tbody tr th:only-of-type {\n",
       "        vertical-align: middle;\n",
       "    }\n",
       "\n",
       "    .dataframe tbody tr th {\n",
       "        vertical-align: top;\n",
       "    }\n",
       "\n",
       "    .dataframe thead th {\n",
       "        text-align: right;\n",
       "    }\n",
       "</style>\n",
       "<table border=\"1\" class=\"dataframe\">\n",
       "  <thead>\n",
       "    <tr style=\"text-align: right;\">\n",
       "      <th></th>\n",
       "      <th>user_id</th>\n",
       "      <th>name</th>\n",
       "      <th>age</th>\n",
       "      <th>city</th>\n",
       "      <th>subscription_type</th>\n",
       "    </tr>\n",
       "  </thead>\n",
       "  <tbody>\n",
       "    <tr>\n",
       "      <th>0</th>\n",
       "      <td>1</td>\n",
       "      <td>Кира</td>\n",
       "      <td>22</td>\n",
       "      <td>Тюмень</td>\n",
       "      <td>ultra</td>\n",
       "    </tr>\n",
       "    <tr>\n",
       "      <th>1</th>\n",
       "      <td>2</td>\n",
       "      <td>Станислав</td>\n",
       "      <td>31</td>\n",
       "      <td>Омск</td>\n",
       "      <td>ultra</td>\n",
       "    </tr>\n",
       "    <tr>\n",
       "      <th>2</th>\n",
       "      <td>3</td>\n",
       "      <td>Алексей</td>\n",
       "      <td>20</td>\n",
       "      <td>Москва</td>\n",
       "      <td>ultra</td>\n",
       "    </tr>\n",
       "    <tr>\n",
       "      <th>3</th>\n",
       "      <td>4</td>\n",
       "      <td>Константин</td>\n",
       "      <td>26</td>\n",
       "      <td>Ростов-на-Дону</td>\n",
       "      <td>ultra</td>\n",
       "    </tr>\n",
       "    <tr>\n",
       "      <th>4</th>\n",
       "      <td>5</td>\n",
       "      <td>Адель</td>\n",
       "      <td>28</td>\n",
       "      <td>Омск</td>\n",
       "      <td>ultra</td>\n",
       "    </tr>\n",
       "  </tbody>\n",
       "</table>\n",
       "</div>"
      ],
      "text/plain": [
       "   user_id        name  age            city subscription_type\n",
       "0        1        Кира   22          Тюмень             ultra\n",
       "1        2   Станислав   31            Омск             ultra\n",
       "2        3     Алексей   20          Москва             ultra\n",
       "3        4  Константин   26  Ростов-на-Дону             ultra\n",
       "4        5       Адель   28            Омск             ultra"
      ]
     },
     "execution_count": 16,
     "metadata": {},
     "output_type": "execute_result"
    }
   ],
   "source": [
    "# Датафейм 'users_go'\n",
    "users_go.info()\n",
    "users_go.head()"
   ]
  },
  {
   "cell_type": "code",
   "execution_count": 17,
   "id": "dd7a3e83",
   "metadata": {},
   "outputs": [
    {
     "name": "stdout",
     "output_type": "stream",
     "text": [
      "<class 'pandas.core.frame.DataFrame'>\n",
      "RangeIndex: 18068 entries, 0 to 18067\n",
      "Data columns (total 5 columns):\n",
      " #   Column    Non-Null Count  Dtype         \n",
      "---  ------    --------------  -----         \n",
      " 0   user_id   18068 non-null  int64         \n",
      " 1   distance  18068 non-null  float64       \n",
      " 2   duration  18068 non-null  int64         \n",
      " 3   date      18068 non-null  datetime64[ns]\n",
      " 4   month     18068 non-null  int64         \n",
      "dtypes: datetime64[ns](1), float64(1), int64(3)\n",
      "memory usage: 705.9 KB\n",
      "None\n",
      "\n",
      "   user_id  distance  duration       date  month\n",
      "0        1   4409.92        26 2021-01-01      1\n",
      "1        1   2617.59        16 2021-01-18      1\n",
      "2        1    754.16         7 2021-04-20      4\n",
      "3        1   2694.78        19 2021-08-11      8\n",
      "4        1   4028.69        27 2021-08-28      8\n",
      "\n",
      "            user_id      distance      duration         month\n",
      "count  18068.000000  18068.000000  18068.000000  18068.000000\n",
      "mean     842.869936   3070.659992     18.303520      6.486772\n",
      "std      434.734317   1116.831222      6.094928      3.437410\n",
      "min        1.000000      0.860000      1.000000      1.000000\n",
      "25%      487.000000   2543.227500     14.000000      4.000000\n",
      "50%      889.000000   3133.610000     18.000000      6.000000\n",
      "75%     1213.250000   3776.220000     22.000000      9.000000\n",
      "max     1534.000000   7211.010000     41.000000     12.000000\n",
      "\n",
      "Анализ дат:\n",
      "Минимальная дата : 2021-01-01 00:00:00\n",
      "Максимальная дата: 2021-12-30 00:00:00\n"
     ]
    },
    {
     "data": {
      "image/png": "[encoded data removed]",
      "text/plain": [
       "<Figure size 432x288 with 1 Axes>"
      ]
     },
     "metadata": {
      "needs_background": "light"
     },
     "output_type": "display_data"
    }
   ],
   "source": [
    "# Датафейм 'rides_go'\n",
    "print(rides_go.info())\n",
    "print()\n",
    "print(rides_go.head())\n",
    "print()\n",
    "print(rides_go.describe())\n",
    "print()\n",
    "print('Анализ дат:')\n",
    "print('Минимальная дата :', rides_go['date'].min())\n",
    "print('Максимальная дата:', rides_go['date'].max())\n",
    "rides_go['date'].hist()\n",
    "plt.show()"
   ]
  },
  {
   "cell_type": "markdown",
   "id": "07402e56",
   "metadata": {},
   "source": [
    "Предобработка subscriptions_go не требуется."
   ]
  },
  {
   "cell_type": "markdown",
   "id": "72c0888f",
   "metadata": {},
   "source": [
    "#### Вывод по предобработке данных:\n",
    "В процессе предобработки данных в датафрейме ‘rides_go’ был добавлен столбец ‘month’ и изменены типы данных столбцов. Также проверены данные в столбце с датами. Диапазон дат с 01.01.2021 по 30.12.2021. В пределах этого диапазона дат количество значений относительно равномерно распределено. Строки с дубликатами в поле ‘user_id’ удалены из ‘users_go’."
   ]
  },
  {
   "cell_type": "markdown",
   "id": "212593c7",
   "metadata": {},
   "source": [
    "#### Шаг 3. Исследовательский анализ данных"
   ]
  },
  {
   "cell_type": "markdown",
   "id": "78645926",
   "metadata": {},
   "source": [
    "3.1 Частота встречаемости городов"
   ]
  },
  {
   "cell_type": "code",
   "execution_count": 18,
   "id": "dd4bd963",
   "metadata": {},
   "outputs": [
    {
     "data": {
      "image/png": "[encoded data removed]",
      "text/plain": [
       "<Figure size 720x360 with 1 Axes>"
      ]
     },
     "metadata": {
      "needs_background": "light"
     },
     "output_type": "display_data"
    },
    {
     "name": "stdout",
     "output_type": "stream",
     "text": [
      "Количество пользователей по городам \n"
     ]
    },
    {
     "data": {
      "text/html": [
       "<div>\n",
       "<style scoped>\n",
       "    .dataframe tbody tr th:only-of-type {\n",
       "        vertical-align: middle;\n",
       "    }\n",
       "\n",
       "    .dataframe tbody tr th {\n",
       "        vertical-align: top;\n",
       "    }\n",
       "\n",
       "    .dataframe thead th {\n",
       "        text-align: right;\n",
       "    }\n",
       "</style>\n",
       "<table border=\"1\" class=\"dataframe\">\n",
       "  <thead>\n",
       "    <tr style=\"text-align: right;\">\n",
       "      <th></th>\n",
       "      <th>user_id</th>\n",
       "    </tr>\n",
       "    <tr>\n",
       "      <th>city</th>\n",
       "      <th></th>\n",
       "    </tr>\n",
       "  </thead>\n",
       "  <tbody>\n",
       "    <tr>\n",
       "      <th>Пятигорск</th>\n",
       "      <td>219</td>\n",
       "    </tr>\n",
       "    <tr>\n",
       "      <th>Екатеринбург</th>\n",
       "      <td>204</td>\n",
       "    </tr>\n",
       "    <tr>\n",
       "      <th>Ростов-на-Дону</th>\n",
       "      <td>198</td>\n",
       "    </tr>\n",
       "    <tr>\n",
       "      <th>Краснодар</th>\n",
       "      <td>193</td>\n",
       "    </tr>\n",
       "    <tr>\n",
       "      <th>Сочи</th>\n",
       "      <td>189</td>\n",
       "    </tr>\n",
       "    <tr>\n",
       "      <th>Омск</th>\n",
       "      <td>183</td>\n",
       "    </tr>\n",
       "    <tr>\n",
       "      <th>Тюмень</th>\n",
       "      <td>180</td>\n",
       "    </tr>\n",
       "    <tr>\n",
       "      <th>Москва</th>\n",
       "      <td>168</td>\n",
       "    </tr>\n",
       "  </tbody>\n",
       "</table>\n",
       "</div>"
      ],
      "text/plain": [
       "                user_id\n",
       "city                   \n",
       "Пятигорск           219\n",
       "Екатеринбург        204\n",
       "Ростов-на-Дону      198\n",
       "Краснодар           193\n",
       "Сочи                189\n",
       "Омск                183\n",
       "Тюмень              180\n",
       "Москва              168"
      ]
     },
     "execution_count": 18,
     "metadata": {},
     "output_type": "execute_result"
    }
   ],
   "source": [
    "(\n",
    "    users_go.pivot_table(index='city', values='user_id', aggfunc='count').sort_values(by='user_id', ascending=True)\n",
    "    .plot(kind='barh', grid=True, figsize=(10, 5))\n",
    ")\n",
    "plt.title('Количество пользователей по городам')\n",
    "plt.ylabel('Города')\n",
    "plt.xlabel('Количество пользователей')\n",
    "\n",
    "plt.show()\n",
    "print('Количество пользователей по городам ') \n",
    "users_go.pivot_table(index='city', values='user_id', aggfunc='count').sort_values(by='user_id', ascending=False)"
   ]
  },
  {
   "cell_type": "markdown",
   "id": "4c25aabd",
   "metadata": {},
   "source": [
    "Вывод по частоте встречаемости:\n",
    "\n",
    "Лидером по частотности является Пятигорск (219 строк). Следом идут Екатеринбург (204 строки) и Ростов-на-Дону (198 строк). Замечено, что в первой половине располагаются в основном южные города, где сезон проката больше, за исключением Екатеринбурга."
   ]
  },
  {
   "cell_type": "markdown",
   "id": "64638b61",
   "metadata": {},
   "source": [
    "3.2 Соотношение пользователей с подпиской и без подписки"
   ]
  },
  {
   "cell_type": "code",
   "execution_count": 19,
   "id": "2564253c",
   "metadata": {},
   "outputs": [
    {
     "data": {
      "image/png": "[encoded data removed]",
      "text/plain": [
       "<Figure size 360x360 with 1 Axes>"
      ]
     },
     "metadata": {},
     "output_type": "display_data"
    }
   ],
   "source": [
    "(\n",
    "    users_go.pivot_table(index='subscription_type', values='user_id', aggfunc='count')\n",
    "    .plot.pie(y='user_id', figsize=(5,5),  label='Количество пользователей', \n",
    "    autopct='%1.1f%%', startangle=45,\n",
    "    title='Отношение пользователей без подписки и с подпиской, к общему количеству')\n",
    "\n",
    ")\n",
    "plt.axis('equal')\n",
    "plt.show()"
   ]
  },
  {
   "cell_type": "markdown",
   "id": "5d3d20fa",
   "metadata": {},
   "source": [
    "Вывод по соотношению пользователей с подпиской и без неё:\n",
    "\n",
    "Пользователей с подпиской «free» 54.4% от общего количества, это юольше чем с подпиской «ultra» 45,6%."
   ]
  },
  {
   "cell_type": "markdown",
   "id": "4dd3e47b",
   "metadata": {},
   "source": [
    "3.3 Возраст пользователей"
   ]
  },
  {
   "cell_type": "code",
   "execution_count": 20,
   "id": "d80b87c7",
   "metadata": {},
   "outputs": [
    {
     "data": {
      "image/png": "[encoded data removed]",
      "text/plain": [
       "<Figure size 720x360 with 1 Axes>"
      ]
     },
     "metadata": {
      "needs_background": "light"
     },
     "output_type": "display_data"
    }
   ],
   "source": [
    "(\n",
    "    users_go.pivot_table(index='age', values='user_id', aggfunc='count').sort_values(by='age', ascending=True)\n",
    "    .plot(kind='bar' , grid=True, figsize=(10, 5))\n",
    ")\n",
    "plt.title('Количество пользователей по возрастам')\n",
    "plt.xlabel('Возраст')\n",
    "plt.ylabel('Количество')\n",
    "plt.show()"
   ]
  },
  {
   "cell_type": "code",
   "execution_count": 21,
   "id": "934fe8d1",
   "metadata": {},
   "outputs": [
    {
     "name": "stdout",
     "output_type": "stream",
     "text": [
      "Средний возраст пользователей 24.9\n",
      "Медианный возраст пользователей 25.0\n"
     ]
    },
    {
     "data": {
      "text/plain": [
       "count    1534.000000\n",
       "mean       24.903520\n",
       "std         4.572367\n",
       "min        12.000000\n",
       "25%        22.000000\n",
       "50%        25.000000\n",
       "75%        28.000000\n",
       "max        43.000000\n",
       "Name: age, dtype: float64"
      ]
     },
     "execution_count": 21,
     "metadata": {},
     "output_type": "execute_result"
    }
   ],
   "source": [
    "print('Средний возраст пользователей', users_go['age'].mean().round(1))\n",
    "print('Медианный возраст пользователей', users_go['age'].median())\n",
    "users_go['age'].describe()"
   ]
  },
  {
   "cell_type": "markdown",
   "id": "82ac88ae",
   "metadata": {},
   "source": [
    "Вывод по возрасту пользователей:\n",
    "\n",
    "Услугами сервиса аренды самокатов пользуются люди от 12 до 43 лет. Возрастная кривая имеет нормальное распределение. Максимальное количество пользователей в возрасте 25 лет, этот же возраст является медианным."
   ]
  },
  {
   "cell_type": "markdown",
   "id": "0e1fd8bb",
   "metadata": {},
   "source": [
    "3.4 Расстояние, которое пользователь преодолел за одну поездку"
   ]
  },
  {
   "cell_type": "code",
   "execution_count": 22,
   "id": "baca6dbd",
   "metadata": {},
   "outputs": [
    {
     "data": {
      "image/png": "[encoded data removed]",
      "text/plain": [
       "<Figure size 432x288 with 1 Axes>"
      ]
     },
     "metadata": {
      "needs_background": "light"
     },
     "output_type": "display_data"
    }
   ],
   "source": [
    "plt.hist(rides_go['distance'], bins=500, range=(1,6000))\n",
    "plt.title('Количество поездок в зависимости от дистанции')\n",
    "plt.xlabel('Расстояние в метрах')\n",
    "plt.ylabel('Количество поездок')\n",
    "plt.show()"
   ]
  },
  {
   "cell_type": "code",
   "execution_count": 23,
   "id": "54551d58",
   "metadata": {},
   "outputs": [
    {
     "data": {
      "text/plain": [
       "count    18068.000000\n",
       "mean      3070.659992\n",
       "std       1116.831222\n",
       "min          0.860000\n",
       "25%       2543.227500\n",
       "50%       3133.610000\n",
       "75%       3776.220000\n",
       "max       7211.010000\n",
       "Name: distance, dtype: float64"
      ]
     },
     "execution_count": 23,
     "metadata": {},
     "output_type": "execute_result"
    }
   ],
   "source": [
    "rides_go['distance'].describe()"
   ]
  },
  {
   "cell_type": "markdown",
   "id": "15f42160",
   "metadata": {},
   "source": [
    "Вывод по расстоянию, которое польщователь преодолевает за одну поездку:\n",
    "\n",
    "За одну поездку пользователи преодолевают до 7211 метров. Медиана всех значений равна 3133 метров. Наблюдаются два пика. Малый пик около 700 метров, большой пик около 3200 метров. Между пиками значения нормально распределены."
   ]
  },
  {
   "cell_type": "markdown",
   "id": "8644e46c",
   "metadata": {},
   "source": [
    "3.5 Продолжительность поездок"
   ]
  },
  {
   "cell_type": "code",
   "execution_count": 24,
   "id": "15a9cf08",
   "metadata": {},
   "outputs": [
    {
     "data": {
      "text/plain": [
       "count    18068.000000\n",
       "mean        18.303520\n",
       "std          6.094928\n",
       "min          1.000000\n",
       "25%         14.000000\n",
       "50%         18.000000\n",
       "75%         22.000000\n",
       "max         41.000000\n",
       "Name: duration, dtype: float64"
      ]
     },
     "execution_count": 24,
     "metadata": {},
     "output_type": "execute_result"
    }
   ],
   "source": [
    "rides_go['duration'].describe()"
   ]
  },
  {
   "cell_type": "code",
   "execution_count": 25,
   "id": "cd364dad",
   "metadata": {},
   "outputs": [
    {
     "data": {
      "image/png": "[encoded data removed]",
      "text/plain": [
       "<Figure size 432x288 with 1 Axes>"
      ]
     },
     "metadata": {
      "needs_background": "light"
     },
     "output_type": "display_data"
    }
   ],
   "source": [
    "plt.hist(rides_go['duration'], bins=41, range=(1,41))\n",
    "plt.title('Количество поездок в зависимости от продолжительности')\n",
    "plt.xlabel('продолжительность поездки')\n",
    "plt.ylabel('Количество поездок')\n",
    "plt.show()"
   ]
  },
  {
   "cell_type": "markdown",
   "id": "8d7f063a",
   "metadata": {},
   "source": [
    "Вывод по продолжительности поездок:\n",
    "\n",
    "Продолжительность поездок нормально распределена от 0 до 41 минуты. Продолжительность в 18 минут является как средним так и медианным значением.\n",
    "Наблюдается анамалия размером менее 100 поездок с продолжительностью в 1 минуту. Однако, они не являются выбрасами, т.к. подкреплены данными о поездках со столь же маленькими дистанциями."
   ]
  },
  {
   "cell_type": "markdown",
   "id": "6615e8ba",
   "metadata": {},
   "source": [
    "#### Вывод по исследовательскому анализу данных:\n",
    "+ Услугами сервиса аренды самокатов пользуются больше всего в южных городах, где сезон проката больше, но второй - Екатеринбург.\n",
    "+ Количество пользователей без подписки free 54,4% превышает количество пользователей с подпиской ultra 45,6%.\n",
    "+ Количество пользователей в зависимости от возраста указывает, что средний возраст подчиняется нормальному распределению с медианой в 25 лет, при этом средний возраст и медиана практически совпадают.\n",
    "+ Количество поездок в зависимости от расстояния указывает, медиана поездок находится на 3133 метров первый квартиль находится на значении 2543 метра, третий квартиль на 3776 метров. Наблюдаются два пика. Малый пик около 700 метров, большой пик около 3200 метров. Между пиками значения нормально распределены.\n",
    "+ Количество поездок в зависимости от продолжительности указывает, что медиана поездок находится на 18 мин, первый квартиль находится на значении 14 мин, третий квартиль на 22 мин. На гисторгамме замечено аномальное время поездок порядка 100 с временем меньше 1 минуты. "
   ]
  },
  {
   "cell_type": "markdown",
   "id": "4ef51331",
   "metadata": {},
   "source": [
    "#### Шаг 4. Объединение данных"
   ]
  },
  {
   "cell_type": "markdown",
   "id": "9c65496f",
   "metadata": {},
   "source": [
    "4.1 Объединим данные о пользователях, поездках и подписках в один датафрейм. Для этого воспользуемся методом merge()."
   ]
  },
  {
   "cell_type": "code",
   "execution_count": 26,
   "id": "ad169986",
   "metadata": {},
   "outputs": [],
   "source": [
    "# Общая таблица с данными\n",
    "total_go = users_go.merge(rides_go, on='user_id').merge(subscriptions_go, on='subscription_type')"
   ]
  },
  {
   "cell_type": "code",
   "execution_count": 27,
   "id": "04984dff",
   "metadata": {},
   "outputs": [
    {
     "data": {
      "text/html": [
       "<div>\n",
       "<style scoped>\n",
       "    .dataframe tbody tr th:only-of-type {\n",
       "        vertical-align: middle;\n",
       "    }\n",
       "\n",
       "    .dataframe tbody tr th {\n",
       "        vertical-align: top;\n",
       "    }\n",
       "\n",
       "    .dataframe thead th {\n",
       "        text-align: right;\n",
       "    }\n",
       "</style>\n",
       "<table border=\"1\" class=\"dataframe\">\n",
       "  <thead>\n",
       "    <tr style=\"text-align: right;\">\n",
       "      <th></th>\n",
       "      <th>user_id</th>\n",
       "      <th>name</th>\n",
       "      <th>age</th>\n",
       "      <th>city</th>\n",
       "      <th>subscription_type</th>\n",
       "      <th>distance</th>\n",
       "      <th>duration</th>\n",
       "      <th>date</th>\n",
       "      <th>month</th>\n",
       "      <th>minute_price</th>\n",
       "      <th>start_ride_price</th>\n",
       "      <th>subscription_fee</th>\n",
       "    </tr>\n",
       "  </thead>\n",
       "  <tbody>\n",
       "    <tr>\n",
       "      <th>0</th>\n",
       "      <td>1</td>\n",
       "      <td>Кира</td>\n",
       "      <td>22</td>\n",
       "      <td>Тюмень</td>\n",
       "      <td>ultra</td>\n",
       "      <td>4409.92</td>\n",
       "      <td>26</td>\n",
       "      <td>2021-01-01</td>\n",
       "      <td>1</td>\n",
       "      <td>6</td>\n",
       "      <td>0</td>\n",
       "      <td>199</td>\n",
       "    </tr>\n",
       "    <tr>\n",
       "      <th>1</th>\n",
       "      <td>1</td>\n",
       "      <td>Кира</td>\n",
       "      <td>22</td>\n",
       "      <td>Тюмень</td>\n",
       "      <td>ultra</td>\n",
       "      <td>2617.59</td>\n",
       "      <td>16</td>\n",
       "      <td>2021-01-18</td>\n",
       "      <td>1</td>\n",
       "      <td>6</td>\n",
       "      <td>0</td>\n",
       "      <td>199</td>\n",
       "    </tr>\n",
       "    <tr>\n",
       "      <th>2</th>\n",
       "      <td>1</td>\n",
       "      <td>Кира</td>\n",
       "      <td>22</td>\n",
       "      <td>Тюмень</td>\n",
       "      <td>ultra</td>\n",
       "      <td>754.16</td>\n",
       "      <td>7</td>\n",
       "      <td>2021-04-20</td>\n",
       "      <td>4</td>\n",
       "      <td>6</td>\n",
       "      <td>0</td>\n",
       "      <td>199</td>\n",
       "    </tr>\n",
       "    <tr>\n",
       "      <th>3</th>\n",
       "      <td>1</td>\n",
       "      <td>Кира</td>\n",
       "      <td>22</td>\n",
       "      <td>Тюмень</td>\n",
       "      <td>ultra</td>\n",
       "      <td>2694.78</td>\n",
       "      <td>19</td>\n",
       "      <td>2021-08-11</td>\n",
       "      <td>8</td>\n",
       "      <td>6</td>\n",
       "      <td>0</td>\n",
       "      <td>199</td>\n",
       "    </tr>\n",
       "    <tr>\n",
       "      <th>4</th>\n",
       "      <td>1</td>\n",
       "      <td>Кира</td>\n",
       "      <td>22</td>\n",
       "      <td>Тюмень</td>\n",
       "      <td>ultra</td>\n",
       "      <td>4028.69</td>\n",
       "      <td>27</td>\n",
       "      <td>2021-08-28</td>\n",
       "      <td>8</td>\n",
       "      <td>6</td>\n",
       "      <td>0</td>\n",
       "      <td>199</td>\n",
       "    </tr>\n",
       "  </tbody>\n",
       "</table>\n",
       "</div>"
      ],
      "text/plain": [
       "   user_id  name  age    city subscription_type  distance  duration  \\\n",
       "0        1  Кира   22  Тюмень             ultra   4409.92        26   \n",
       "1        1  Кира   22  Тюмень             ultra   2617.59        16   \n",
       "2        1  Кира   22  Тюмень             ultra    754.16         7   \n",
       "3        1  Кира   22  Тюмень             ultra   2694.78        19   \n",
       "4        1  Кира   22  Тюмень             ultra   4028.69        27   \n",
       "\n",
       "        date  month  minute_price  start_ride_price  subscription_fee  \n",
       "0 2021-01-01      1             6                 0               199  \n",
       "1 2021-01-18      1             6                 0               199  \n",
       "2 2021-04-20      4             6                 0               199  \n",
       "3 2021-08-11      8             6                 0               199  \n",
       "4 2021-08-28      8             6                 0               199  "
      ]
     },
     "execution_count": 27,
     "metadata": {},
     "output_type": "execute_result"
    }
   ],
   "source": [
    "total_go.head()"
   ]
  },
  {
   "cell_type": "code",
   "execution_count": 28,
   "id": "ef98ffdc",
   "metadata": {},
   "outputs": [
    {
     "name": "stdout",
     "output_type": "stream",
     "text": [
      "Количество поездок в 'rides_go': 18068\n",
      "Количество поездок в 'total_go': 18068\n",
      "\n",
      "Количество уникальных пользователей в 'users_go': 1534\n",
      "Количество уникальных пользователей в 'total_go': 1534\n"
     ]
    }
   ],
   "source": [
    "print(\"Количество поездок в 'rides_go':\", rides_go['user_id'].count())\n",
    "print(\"Количество поездок в 'total_go':\", total_go['user_id'].count())\n",
    "print()\n",
    "print(\"Количество уникальных пользователей в 'users_go':\", len(users_go['user_id'].unique()))\n",
    "print(\"Количество уникальных пользователей в 'total_go':\", len(total_go['user_id'].unique()))"
   ]
  },
  {
   "cell_type": "code",
   "execution_count": 29,
   "id": "eb215898",
   "metadata": {},
   "outputs": [
    {
     "data": {
      "text/plain": [
       "0"
      ]
     },
     "execution_count": 29,
     "metadata": {},
     "output_type": "execute_result"
    }
   ],
   "source": [
    "total_go.duplicated().sum()"
   ]
  },
  {
   "cell_type": "markdown",
   "id": "db1df2ad",
   "metadata": {},
   "source": [
    "Вывод по объединению данных:\n",
    "\n",
    "Созданный датафрейм df объединяющий таблицы rides_go, users_go, subscriptions_go в своем составе имеет 18068 строк во всех столбцах, что соответствует исходной таблице rides_go и указывает на отсутствие пропусков в столбцах. Дополнительно произведена проверка на явные дубликаты."
   ]
  },
  {
   "cell_type": "markdown",
   "id": "90831f77",
   "metadata": {},
   "source": [
    "4.2 Создадим ещё два датафрейма из датафрейма, созданного на этапе 4.1:"
   ]
  },
  {
   "cell_type": "markdown",
   "id": "78df98c1",
   "metadata": {},
   "source": [
    "4.2.1 С данными о пользователях без подписки"
   ]
  },
  {
   "cell_type": "code",
   "execution_count": 30,
   "id": "d46eb7dd",
   "metadata": {},
   "outputs": [
    {
     "data": {
      "text/html": [
       "<div>\n",
       "<style scoped>\n",
       "    .dataframe tbody tr th:only-of-type {\n",
       "        vertical-align: middle;\n",
       "    }\n",
       "\n",
       "    .dataframe tbody tr th {\n",
       "        vertical-align: top;\n",
       "    }\n",
       "\n",
       "    .dataframe thead th {\n",
       "        text-align: right;\n",
       "    }\n",
       "</style>\n",
       "<table border=\"1\" class=\"dataframe\">\n",
       "  <thead>\n",
       "    <tr style=\"text-align: right;\">\n",
       "      <th></th>\n",
       "      <th>user_id</th>\n",
       "      <th>name</th>\n",
       "      <th>age</th>\n",
       "      <th>city</th>\n",
       "      <th>subscription_type</th>\n",
       "      <th>distance</th>\n",
       "      <th>duration</th>\n",
       "      <th>date</th>\n",
       "      <th>month</th>\n",
       "      <th>minute_price</th>\n",
       "      <th>start_ride_price</th>\n",
       "      <th>subscription_fee</th>\n",
       "    </tr>\n",
       "  </thead>\n",
       "  <tbody>\n",
       "    <tr>\n",
       "      <th>6500</th>\n",
       "      <td>700</td>\n",
       "      <td>Айдар</td>\n",
       "      <td>22</td>\n",
       "      <td>Омск</td>\n",
       "      <td>free</td>\n",
       "      <td>2515.69</td>\n",
       "      <td>15</td>\n",
       "      <td>2021-01-02</td>\n",
       "      <td>1</td>\n",
       "      <td>8</td>\n",
       "      <td>50</td>\n",
       "      <td>0</td>\n",
       "    </tr>\n",
       "    <tr>\n",
       "      <th>6501</th>\n",
       "      <td>700</td>\n",
       "      <td>Айдар</td>\n",
       "      <td>22</td>\n",
       "      <td>Омск</td>\n",
       "      <td>free</td>\n",
       "      <td>846.93</td>\n",
       "      <td>17</td>\n",
       "      <td>2021-02-01</td>\n",
       "      <td>2</td>\n",
       "      <td>8</td>\n",
       "      <td>50</td>\n",
       "      <td>0</td>\n",
       "    </tr>\n",
       "    <tr>\n",
       "      <th>6502</th>\n",
       "      <td>700</td>\n",
       "      <td>Айдар</td>\n",
       "      <td>22</td>\n",
       "      <td>Омск</td>\n",
       "      <td>free</td>\n",
       "      <td>4004.43</td>\n",
       "      <td>21</td>\n",
       "      <td>2021-02-04</td>\n",
       "      <td>2</td>\n",
       "      <td>8</td>\n",
       "      <td>50</td>\n",
       "      <td>0</td>\n",
       "    </tr>\n",
       "    <tr>\n",
       "      <th>6503</th>\n",
       "      <td>700</td>\n",
       "      <td>Айдар</td>\n",
       "      <td>22</td>\n",
       "      <td>Омск</td>\n",
       "      <td>free</td>\n",
       "      <td>1205.91</td>\n",
       "      <td>10</td>\n",
       "      <td>2021-02-10</td>\n",
       "      <td>2</td>\n",
       "      <td>8</td>\n",
       "      <td>50</td>\n",
       "      <td>0</td>\n",
       "    </tr>\n",
       "    <tr>\n",
       "      <th>6504</th>\n",
       "      <td>700</td>\n",
       "      <td>Айдар</td>\n",
       "      <td>22</td>\n",
       "      <td>Омск</td>\n",
       "      <td>free</td>\n",
       "      <td>3047.38</td>\n",
       "      <td>18</td>\n",
       "      <td>2021-02-14</td>\n",
       "      <td>2</td>\n",
       "      <td>8</td>\n",
       "      <td>50</td>\n",
       "      <td>0</td>\n",
       "    </tr>\n",
       "  </tbody>\n",
       "</table>\n",
       "</div>"
      ],
      "text/plain": [
       "      user_id   name  age  city subscription_type  distance  duration  \\\n",
       "6500      700  Айдар   22  Омск              free   2515.69        15   \n",
       "6501      700  Айдар   22  Омск              free    846.93        17   \n",
       "6502      700  Айдар   22  Омск              free   4004.43        21   \n",
       "6503      700  Айдар   22  Омск              free   1205.91        10   \n",
       "6504      700  Айдар   22  Омск              free   3047.38        18   \n",
       "\n",
       "           date  month  minute_price  start_ride_price  subscription_fee  \n",
       "6500 2021-01-02      1             8                50                 0  \n",
       "6501 2021-02-01      2             8                50                 0  \n",
       "6502 2021-02-04      2             8                50                 0  \n",
       "6503 2021-02-10      2             8                50                 0  \n",
       "6504 2021-02-14      2             8                50                 0  "
      ]
     },
     "execution_count": 30,
     "metadata": {},
     "output_type": "execute_result"
    }
   ],
   "source": [
    "df_free = total_go[total_go['subscription_type'] == 'free']\n",
    "df_free.head()"
   ]
  },
  {
   "cell_type": "markdown",
   "id": "58c91953",
   "metadata": {},
   "source": [
    "4.2.2 С данными о пользователях с подпиской"
   ]
  },
  {
   "cell_type": "code",
   "execution_count": 31,
   "id": "6f6f5a4a",
   "metadata": {},
   "outputs": [
    {
     "data": {
      "text/html": [
       "<div>\n",
       "<style scoped>\n",
       "    .dataframe tbody tr th:only-of-type {\n",
       "        vertical-align: middle;\n",
       "    }\n",
       "\n",
       "    .dataframe tbody tr th {\n",
       "        vertical-align: top;\n",
       "    }\n",
       "\n",
       "    .dataframe thead th {\n",
       "        text-align: right;\n",
       "    }\n",
       "</style>\n",
       "<table border=\"1\" class=\"dataframe\">\n",
       "  <thead>\n",
       "    <tr style=\"text-align: right;\">\n",
       "      <th></th>\n",
       "      <th>user_id</th>\n",
       "      <th>name</th>\n",
       "      <th>age</th>\n",
       "      <th>city</th>\n",
       "      <th>subscription_type</th>\n",
       "      <th>distance</th>\n",
       "      <th>duration</th>\n",
       "      <th>date</th>\n",
       "      <th>month</th>\n",
       "      <th>minute_price</th>\n",
       "      <th>start_ride_price</th>\n",
       "      <th>subscription_fee</th>\n",
       "    </tr>\n",
       "  </thead>\n",
       "  <tbody>\n",
       "    <tr>\n",
       "      <th>0</th>\n",
       "      <td>1</td>\n",
       "      <td>Кира</td>\n",
       "      <td>22</td>\n",
       "      <td>Тюмень</td>\n",
       "      <td>ultra</td>\n",
       "      <td>4409.92</td>\n",
       "      <td>26</td>\n",
       "      <td>2021-01-01</td>\n",
       "      <td>1</td>\n",
       "      <td>6</td>\n",
       "      <td>0</td>\n",
       "      <td>199</td>\n",
       "    </tr>\n",
       "    <tr>\n",
       "      <th>1</th>\n",
       "      <td>1</td>\n",
       "      <td>Кира</td>\n",
       "      <td>22</td>\n",
       "      <td>Тюмень</td>\n",
       "      <td>ultra</td>\n",
       "      <td>2617.59</td>\n",
       "      <td>16</td>\n",
       "      <td>2021-01-18</td>\n",
       "      <td>1</td>\n",
       "      <td>6</td>\n",
       "      <td>0</td>\n",
       "      <td>199</td>\n",
       "    </tr>\n",
       "    <tr>\n",
       "      <th>2</th>\n",
       "      <td>1</td>\n",
       "      <td>Кира</td>\n",
       "      <td>22</td>\n",
       "      <td>Тюмень</td>\n",
       "      <td>ultra</td>\n",
       "      <td>754.16</td>\n",
       "      <td>7</td>\n",
       "      <td>2021-04-20</td>\n",
       "      <td>4</td>\n",
       "      <td>6</td>\n",
       "      <td>0</td>\n",
       "      <td>199</td>\n",
       "    </tr>\n",
       "    <tr>\n",
       "      <th>3</th>\n",
       "      <td>1</td>\n",
       "      <td>Кира</td>\n",
       "      <td>22</td>\n",
       "      <td>Тюмень</td>\n",
       "      <td>ultra</td>\n",
       "      <td>2694.78</td>\n",
       "      <td>19</td>\n",
       "      <td>2021-08-11</td>\n",
       "      <td>8</td>\n",
       "      <td>6</td>\n",
       "      <td>0</td>\n",
       "      <td>199</td>\n",
       "    </tr>\n",
       "    <tr>\n",
       "      <th>4</th>\n",
       "      <td>1</td>\n",
       "      <td>Кира</td>\n",
       "      <td>22</td>\n",
       "      <td>Тюмень</td>\n",
       "      <td>ultra</td>\n",
       "      <td>4028.69</td>\n",
       "      <td>27</td>\n",
       "      <td>2021-08-28</td>\n",
       "      <td>8</td>\n",
       "      <td>6</td>\n",
       "      <td>0</td>\n",
       "      <td>199</td>\n",
       "    </tr>\n",
       "  </tbody>\n",
       "</table>\n",
       "</div>"
      ],
      "text/plain": [
       "   user_id  name  age    city subscription_type  distance  duration  \\\n",
       "0        1  Кира   22  Тюмень             ultra   4409.92        26   \n",
       "1        1  Кира   22  Тюмень             ultra   2617.59        16   \n",
       "2        1  Кира   22  Тюмень             ultra    754.16         7   \n",
       "3        1  Кира   22  Тюмень             ultra   2694.78        19   \n",
       "4        1  Кира   22  Тюмень             ultra   4028.69        27   \n",
       "\n",
       "        date  month  minute_price  start_ride_price  subscription_fee  \n",
       "0 2021-01-01      1             6                 0               199  \n",
       "1 2021-01-18      1             6                 0               199  \n",
       "2 2021-04-20      4             6                 0               199  \n",
       "3 2021-08-11      8             6                 0               199  \n",
       "4 2021-08-28      8             6                 0               199  "
      ]
     },
     "execution_count": 31,
     "metadata": {},
     "output_type": "execute_result"
    }
   ],
   "source": [
    "df_ultra = total_go[total_go['subscription_type'] == 'ultra']\n",
    "df_ultra.head()"
   ]
  },
  {
   "cell_type": "code",
   "execution_count": 32,
   "id": "4fa47fd1",
   "metadata": {},
   "outputs": [
    {
     "name": "stdout",
     "output_type": "stream",
     "text": [
      "Всё хорошо\n"
     ]
    }
   ],
   "source": [
    "# Проверим, что ничего не потеряли\n",
    "if len(total_go) == (len(df_free) + len(df_ultra)):\n",
    "    print('Всё хорошо')\n",
    "else:\n",
    "    print('Что-то не так')"
   ]
  },
  {
   "cell_type": "markdown",
   "id": "be3963cb",
   "metadata": {},
   "source": [
    "4.3 Визуализируем информацию о расстоянии и времени поездок для пользователей обеих категорий"
   ]
  },
  {
   "cell_type": "code",
   "execution_count": 33,
   "id": "3381f3ea",
   "metadata": {},
   "outputs": [
    {
     "data": {
      "image/png": "[encoded data removed]",
      "text/plain": [
       "<Figure size 432x288 with 1 Axes>"
      ]
     },
     "metadata": {
      "needs_background": "light"
     },
     "output_type": "display_data"
    }
   ],
   "source": [
    "plt.hist([df_free['distance'], df_ultra['distance']], bins=50, range=(1,6000), label=['free', 'ultra'])\n",
    "plt.legend(loc='upper right')\n",
    "plt.title('Количество поездок в зависимости от расстояния')\n",
    "plt.xlabel('Расстояние в метрах')\n",
    "plt.ylabel('Количество поездок')\n",
    "plt.show()"
   ]
  },
  {
   "cell_type": "code",
   "execution_count": 34,
   "id": "fe49b2ee",
   "metadata": {},
   "outputs": [
    {
     "data": {
      "text/plain": [
       "count    11568.000000\n",
       "mean      3045.495284\n",
       "std       1246.173810\n",
       "min          0.860000\n",
       "25%       2366.560000\n",
       "50%       3114.650000\n",
       "75%       3905.695000\n",
       "max       7211.010000\n",
       "Name: distance, dtype: float64"
      ]
     },
     "execution_count": 34,
     "metadata": {},
     "output_type": "execute_result"
    }
   ],
   "source": [
    "df_free['distance'].describe()"
   ]
  },
  {
   "cell_type": "code",
   "execution_count": 35,
   "id": "9ebd15e2",
   "metadata": {},
   "outputs": [
    {
     "data": {
      "text/plain": [
       "count    6500.000000\n",
       "mean     3115.445431\n",
       "std       836.895369\n",
       "min       244.210000\n",
       "25%      2785.447500\n",
       "50%      3148.640000\n",
       "75%      3560.577500\n",
       "max      5699.770000\n",
       "Name: distance, dtype: float64"
      ]
     },
     "execution_count": 35,
     "metadata": {},
     "output_type": "execute_result"
    }
   ],
   "source": [
    "df_ultra['distance'].describe()"
   ]
  },
  {
   "cell_type": "code",
   "execution_count": 36,
   "id": "5f6ef5f3",
   "metadata": {
    "scrolled": false
   },
   "outputs": [
    {
     "data": {
      "image/png": "[encoded data removed]",
      "text/plain": [
       "<Figure size 432x288 with 1 Axes>"
      ]
     },
     "metadata": {
      "needs_background": "light"
     },
     "output_type": "display_data"
    }
   ],
   "source": [
    "plt.hist([df_free['duration'], df_ultra['duration']], bins=30, range=(1,30), label=['free', 'ultra'])\n",
    "plt.legend(loc='upper right')\n",
    "plt.title('Количество поездок в зависимости от продолжительности')\n",
    "plt.xlabel('Продолжительность поездки')\n",
    "plt.ylabel('Количество поездок')\n",
    "plt.show()"
   ]
  },
  {
   "cell_type": "code",
   "execution_count": 37,
   "id": "d3e411d6",
   "metadata": {},
   "outputs": [
    {
     "data": {
      "text/plain": [
       "count    11568.000000\n",
       "mean        17.890992\n",
       "std          6.330250\n",
       "min          1.000000\n",
       "25%         13.000000\n",
       "50%         18.000000\n",
       "75%         22.000000\n",
       "max         35.000000\n",
       "Name: duration, dtype: float64"
      ]
     },
     "execution_count": 37,
     "metadata": {},
     "output_type": "execute_result"
    }
   ],
   "source": [
    "df_free['duration'].describe()"
   ]
  },
  {
   "cell_type": "code",
   "execution_count": 38,
   "id": "375badb7",
   "metadata": {},
   "outputs": [
    {
     "data": {
      "text/plain": [
       "count    6500.000000\n",
       "mean       19.037692\n",
       "std         5.577439\n",
       "min         4.000000\n",
       "25%        15.000000\n",
       "50%        19.000000\n",
       "75%        22.000000\n",
       "max        41.000000\n",
       "Name: duration, dtype: float64"
      ]
     },
     "execution_count": 38,
     "metadata": {},
     "output_type": "execute_result"
    }
   ],
   "source": [
    "df_ultra['duration'].describe()"
   ]
  },
  {
   "cell_type": "markdown",
   "id": "883e3f35",
   "metadata": {},
   "source": [
    "#### Вывод по объединению и визуализации данных пользователей без подписки free и с подпиской ultra\n",
    "+ Визуализация датафреймов зависимости количества поездок на определенное расстояние и описательная статистика по пользователям без подписки free и с подпиской ultra указывает, что подписка влияет на медианные значения (расстояния поезки без подписки 3114.65 метров с подпиской 3148.64 метров), при этом у пользователей с подпиской меньше разброс (по стандартному отклонению free - 1246 ultra - 836), также маленький пик сместидся с 500 метров (free) до 1000 (ultra).\n",
    "+ Визуализация датафреймов зависимости количества поездок за определенное время и описательная статистика по пользователям без подписки free и с подпиской ultra указывает, что подписка влияет на медианные значения (время поезки без подписки 18 мин с подпиской 19 мин), так же наблюдается снижение стандартного отклонения free - 6.33 ultra - 5.57."
   ]
  },
  {
   "cell_type": "markdown",
   "id": "402d620f",
   "metadata": {},
   "source": [
    "#### Шаг 5. Подсчёт выручки"
   ]
  },
  {
   "cell_type": "markdown",
   "id": "e8f395ee",
   "metadata": {},
   "source": [
    "5.1 Создадим датафрейм с агрегированными данными о поездках на основе датафрейма с объединёнными данными из шага 4: найдем суммарное расстояние, количество поездок и суммарное время для каждого пользователя за каждый месяц"
   ]
  },
  {
   "cell_type": "code",
   "execution_count": 39,
   "id": "f6317aa8",
   "metadata": {},
   "outputs": [
    {
     "data": {
      "text/html": [
       "<div>\n",
       "<style scoped>\n",
       "    .dataframe tbody tr th:only-of-type {\n",
       "        vertical-align: middle;\n",
       "    }\n",
       "\n",
       "    .dataframe tbody tr th {\n",
       "        vertical-align: top;\n",
       "    }\n",
       "\n",
       "    .dataframe thead th {\n",
       "        text-align: right;\n",
       "    }\n",
       "</style>\n",
       "<table border=\"1\" class=\"dataframe\">\n",
       "  <thead>\n",
       "    <tr style=\"text-align: right;\">\n",
       "      <th></th>\n",
       "      <th></th>\n",
       "      <th></th>\n",
       "      <th>count</th>\n",
       "      <th>distance</th>\n",
       "      <th>duration</th>\n",
       "      <th>minute_price</th>\n",
       "      <th>start_ride_price</th>\n",
       "      <th>subscription_fee</th>\n",
       "    </tr>\n",
       "    <tr>\n",
       "      <th>user_id</th>\n",
       "      <th>month</th>\n",
       "      <th>subscription_type</th>\n",
       "      <th></th>\n",
       "      <th></th>\n",
       "      <th></th>\n",
       "      <th></th>\n",
       "      <th></th>\n",
       "      <th></th>\n",
       "    </tr>\n",
       "  </thead>\n",
       "  <tbody>\n",
       "    <tr>\n",
       "      <th rowspan=\"5\" valign=\"top\">1</th>\n",
       "      <th>1</th>\n",
       "      <th>ultra</th>\n",
       "      <td>2</td>\n",
       "      <td>7027.51</td>\n",
       "      <td>42</td>\n",
       "      <td>6</td>\n",
       "      <td>0</td>\n",
       "      <td>199</td>\n",
       "    </tr>\n",
       "    <tr>\n",
       "      <th>4</th>\n",
       "      <th>ultra</th>\n",
       "      <td>1</td>\n",
       "      <td>754.16</td>\n",
       "      <td>7</td>\n",
       "      <td>6</td>\n",
       "      <td>0</td>\n",
       "      <td>199</td>\n",
       "    </tr>\n",
       "    <tr>\n",
       "      <th>8</th>\n",
       "      <th>ultra</th>\n",
       "      <td>2</td>\n",
       "      <td>6723.47</td>\n",
       "      <td>46</td>\n",
       "      <td>6</td>\n",
       "      <td>0</td>\n",
       "      <td>199</td>\n",
       "    </tr>\n",
       "    <tr>\n",
       "      <th>10</th>\n",
       "      <th>ultra</th>\n",
       "      <td>2</td>\n",
       "      <td>5809.91</td>\n",
       "      <td>32</td>\n",
       "      <td>6</td>\n",
       "      <td>0</td>\n",
       "      <td>199</td>\n",
       "    </tr>\n",
       "    <tr>\n",
       "      <th>11</th>\n",
       "      <th>ultra</th>\n",
       "      <td>3</td>\n",
       "      <td>7003.50</td>\n",
       "      <td>56</td>\n",
       "      <td>6</td>\n",
       "      <td>0</td>\n",
       "      <td>199</td>\n",
       "    </tr>\n",
       "  </tbody>\n",
       "</table>\n",
       "</div>"
      ],
      "text/plain": [
       "                                 count  distance  duration  minute_price  \\\n",
       "user_id month subscription_type                                            \n",
       "1       1     ultra                  2   7027.51        42             6   \n",
       "        4     ultra                  1    754.16         7             6   \n",
       "        8     ultra                  2   6723.47        46             6   \n",
       "        10    ultra                  2   5809.91        32             6   \n",
       "        11    ultra                  3   7003.50        56             6   \n",
       "\n",
       "                                 start_ride_price  subscription_fee  \n",
       "user_id month subscription_type                                      \n",
       "1       1     ultra                             0               199  \n",
       "        4     ultra                             0               199  \n",
       "        8     ultra                             0               199  \n",
       "        10    ultra                             0               199  \n",
       "        11    ultra                             0               199  "
      ]
     },
     "execution_count": 39,
     "metadata": {},
     "output_type": "execute_result"
    }
   ],
   "source": [
    "users_months = total_go.pivot_table(\n",
    "    index=('user_id', 'month', 'subscription_type'), \n",
    "    values=(\n",
    "        'distance', \n",
    "        'duration', \n",
    "        'minute_price', \n",
    "        'start_ride_price', \n",
    "        'subscription_fee'), \n",
    "    aggfunc=({'distance':{'count', 'sum'}, \n",
    "             'duration':'sum',\n",
    "             'minute_price': 'mean',\n",
    "             'start_ride_price':'mean',\n",
    "             'subscription_fee':'mean',}))\n",
    "\n",
    "users_months.columns = [\n",
    "    'count', 'distance', \n",
    "    'duration', \n",
    "    'minute_price',\n",
    "    'start_ride_price', \n",
    "    'subscription_fee']\n",
    "\n",
    "users_months.head()"
   ]
  },
  {
   "cell_type": "markdown",
   "id": "2360171f",
   "metadata": {},
   "source": [
    "5.2 В этот же датафрейм добавим столбец с помесячной выручкой, которую принёс каждый пользователь"
   ]
  },
  {
   "cell_type": "code",
   "execution_count": 40,
   "id": "58f67e2d",
   "metadata": {},
   "outputs": [
    {
     "name": "stdout",
     "output_type": "stream",
     "text": [
      "Выручка за 2021 год составила : 3878641 руб.\n"
     ]
    }
   ],
   "source": [
    "users_months['revenue'] = (\n",
    "users_months['start_ride_price']*users_months['count']+\n",
    "users_months['minute_price']*users_months['duration']+\n",
    "users_months['subscription_fee'])\n",
    "\n",
    "print ('Выручка за 2021 год составила :',users_months['revenue'].sum(), 'руб.')"
   ]
  },
  {
   "cell_type": "markdown",
   "id": "e0ec9014",
   "metadata": {},
   "source": [
    "#### Вывод по подсчёту выручки: \n",
    "Выручка сервиса аренды самокатов \"GoFast\" за год составила 3 878 641 руб."
   ]
  },
  {
   "cell_type": "markdown",
   "id": "41545ac0",
   "metadata": {},
   "source": [
    "#### Шаг 6. Проверка гипотез"
   ]
  },
  {
   "cell_type": "markdown",
   "id": "bb7d72c4",
   "metadata": {},
   "source": [
    "6.1 Определим, тратят ли пользователи с подпиской больше времени на поездки\n",
    "\n",
    "Если да, то пользователи с подпиской могут быть «выгоднее» для компании.\n",
    "\n",
    "Выдвинем гипотезы:\n",
    "\n",
    "- Н0: Средняя продолжительность поездок с подпиской ultra и без free равна\n",
    "- Н1: Средняя продолжительность поездок с подпиской ultra больше продолжительности поездок без подписок free\n",
    "\n",
    "Проверим гипотезы, используем исходные данные о продолжительности каждой сессии — отдельно для тех у кого есть подписка и тех, у кого её нет."
   ]
  },
  {
   "cell_type": "code",
   "execution_count": 41,
   "id": "b46578d9",
   "metadata": {},
   "outputs": [
    {
     "name": "stdout",
     "output_type": "stream",
     "text": [
      "2.4959453720736625e-34\n",
      "Отвергаем нулевую гипотезу\n"
     ]
    }
   ],
   "source": [
    "alpha = 0.05\n",
    "\n",
    "results = st.ttest_ind(\n",
    "    df_ultra['duration'], \n",
    "    df_free['duration'], \n",
    "    equal_var=True, \n",
    "    alternative='greater')\n",
    "print(results.pvalue)\n",
    "\n",
    "if results.pvalue < alpha:\n",
    "    print('Отвергаем нулевую гипотезу')\n",
    "else:\n",
    "    print('Не получилось отвергнуть нулевую гипотезу')"
   ]
  },
  {
   "cell_type": "markdown",
   "id": "41f8ee7c",
   "metadata": {},
   "source": [
    "Вывод по тратам в зависимости от подписки:\n",
    "\n",
    "Нулевая гипотеза отвергнута, поэтому можем утверждать, что средняя продолжительность поездки с подпиской больше продолжительности поездок без подписки при установленном уровне значимости в 5 %."
   ]
  },
  {
   "cell_type": "markdown",
   "id": "a76a9f39",
   "metadata": {},
   "source": [
    "6.2 Оптимальное растояние поездки с точки зрения износа самоката\n",
    "\n",
    "Расстояние одной поездки в 3130 метров — оптимальное с точки зрения износа самоката.\n",
    "\n",
    "Установим действительно ли, что расстояние, которое проезжают пользователи с подпиской за одну поездку, не превышает 3130 метров\n",
    "\n",
    "Выдвинем гипотезы:\n",
    "\n",
    "- Н0: Среднее расстояние поездок с подпиской ultra равно оптимальному расстоянию в 3130 метров.\n",
    "- Н1: Среднее расстояние поездок с подпиской ultra больше оптимального в 3130 метров.\n",
    "\n",
    "Проверим гипотезы, используем исходные данные о расстоянии для пользователей с подпиской."
   ]
  },
  {
   "cell_type": "code",
   "execution_count": 42,
   "id": "b021dc5b",
   "metadata": {},
   "outputs": [
    {
     "name": "stdout",
     "output_type": "stream",
     "text": [
      "0.9195362605842414\n",
      "Не получилось отвергнуть нулевую гипотезу\n"
     ]
    }
   ],
   "source": [
    "distance = 3130\n",
    "alpha = 0.05\n",
    "\n",
    "results = st.ttest_1samp(\n",
    "    df_ultra['distance'], \n",
    "    distance,\n",
    "    alternative='greater')\n",
    "\n",
    "print(results.pvalue)\n",
    "\n",
    "if results.pvalue < alpha:\n",
    "    print('Отвергаем нулевую гипотезу')\n",
    "else:\n",
    "    print('Не получилось отвергнуть нулевую гипотезу')"
   ]
  },
  {
   "cell_type": "markdown",
   "id": "e3f82234",
   "metadata": {},
   "source": [
    "Вывод по оптимальному растоянию поездки с точки зрения износа самоката:\n",
    "\n",
    "Нулевую гипотезу не удалось отвергнуть и следовательно, можем утверждать, что среднее расстояние поездки пользователей с подпиской не превышает оптимальное расстояние в 3130 метров с точки зрения износа самоката, при установленном уровне значимости в 5 %."
   ]
  },
  {
   "cell_type": "markdown",
   "id": "a68c0b92",
   "metadata": {},
   "source": [
    "6.3. Определим, будет ли помесячная выручка от пользователей с подпиской по месяцам выше, чем выручка от пользователей без подписки.\n",
    "\n",
    "Выдвинем гипотезы:\n",
    "- Н0: Помесячная средняя выручка от пользователей с подпиской равна помесячной средней выручке от пользователей без подписки.\n",
    "- Н1: Помесячная средняя выручка от пользователей с подпиской больше помесячной средней выручки от пользователей без подписки.\n",
    "\n",
    "Проверим гипотезы, используем данные о выручке с подпиской и без подписки."
   ]
  },
  {
   "cell_type": "code",
   "execution_count": 43,
   "id": "5beaec88",
   "metadata": {},
   "outputs": [
    {
     "name": "stdout",
     "output_type": "stream",
     "text": [
      "1.8850394384715216e-31\n",
      "Отвергаем нулевую гипотезу\n"
     ]
    }
   ],
   "source": [
    "alpha = 0.05\n",
    "\n",
    "results = st.ttest_ind(\n",
    "    users_months.loc[users_months['subscription_fee'] > 0, 'revenue'], \n",
    "    users_months.loc[users_months['subscription_fee'] == 0, 'revenue'], \n",
    "    equal_var=True, \n",
    "    alternative='greater')\n",
    "print(results.pvalue)\n",
    "\n",
    "if results.pvalue < alpha:\n",
    "    print('Отвергаем нулевую гипотезу')\n",
    "else:\n",
    "    print('Не получилось отвергнуть нулевую гипотезу')"
   ]
  },
  {
   "cell_type": "markdown",
   "id": "6c162130",
   "metadata": {},
   "source": [
    "Вывод по месячной выручке от пользователей с подпиской и без подписки:\n",
    "\n",
    "Нулевая гипотеза отвергнута, можем утверждать, что средняя месячная выручка от пользователей с подпиской, больше средней месячной выручки от пользователей без подписки, при установленном уровне значимости в 5 %."
   ]
  },
  {
   "cell_type": "markdown",
   "id": "f4a0d0b4",
   "metadata": {},
   "source": [
    "6.4. Разберем ситуацию: техническая команда сервиса обновила сервера, с которыми взаимодействует мобильное приложение. Она надеется, что из-за этого количество обращений в техподдержку значимо снизилось. Некоторый файл содержит для каждого пользователя данные о количестве обращений до обновления и после него. Какой тест нам понадобился бы для проверки этой гипотезы?"
   ]
  },
  {
   "cell_type": "markdown",
   "id": "f4298ae4",
   "metadata": {},
   "source": [
    "Сначала требуется провести сравнение выборок на предмет соответствия уникальных пользователей в них.\n",
    "\n",
    "Если списки уникальных пользователей в них совпадают, то выборки зависимы и для проверки гипотезы применим метод scipy.stats.ttest_rel(before, after, alternative=’less’).\n",
    "\n",
    "В ином случае, выборки не могут быть зависимы и для проверки гипотезы применим метод scipy.stats.ttest_ind(before, after, equal_var=False, alternative=’less’), где, equal_var=False, т.к. выборки не равны."
   ]
  },
  {
   "cell_type": "markdown",
   "id": "f4edcc3e",
   "metadata": {},
   "source": [
    "#### Вывод по проверке гипотез:\n",
    "- Нулевая гипотеза отвергнута, есть основания утверждать, что средняя продолжительность поездки с подпиской больше продолжительности поездок без подписки при установленном уровне значимости в 5 %.\n",
    "- Нулевую гипотезу не удалось отвергнуть, есть основания утверждать, что среднее расстояние поездки пользователей с подпиской не превышает оптимальное расстояние в 3130 метров с точки зрения износа самоката, при установленном уровне значимости в 5 %.\n",
    "- Нулевая гипотеза отвергнута, есть основания утверждать, что средняя месячная выручка от пользователей с подпиской, больше средней месячной выручки от пользователей без подписки, при установленном уровне значимости в 5 %."
   ]
  },
  {
   "cell_type": "markdown",
   "id": "ec214f15",
   "metadata": {},
   "source": [
    "#### Общий вывод по работе:\n",
    "Загрузили 3 датафрейма: с пользователями, информацией о поездках, информацией о подписках.\n",
    "\n",
    "Дальше проверили данные на пропуски, их не оказалось ни в одной таблице. Поменяли тип данных у столбца date из датафрейма rides_go к типу даты. Также добавили столбец month с номером месяца. И удалили дубликаты строк из датафрейма с пользователями.\n",
    "\n",
    "Провели исследовательский анализ данных:\n",
    "- Вывели, что количество пользователей по городам распределено примерно одинаково, нет выдающихся значений. Лидером по количеству пользователей является Пятигорск - 219 пользователей. Меньше всего пользователей в Москве - 168.\n",
    "- Пользователей, использующих бесплатную подписку больше - 54% от общего числа пользователей. Платной подпиской пользуется 46%.\n",
    "- Возраст пользователей в основном в промежутке от 20 до 30 лет.\n",
    "- В основном пользователи проезжают от 2.5 км до 4 км.\n",
    "- В основном длительность поездки состовляет 13 - 22 минут.\n",
    "\n",
    "Объединили данные о пользователях, поездках и подписках в один датафрейм. На основе объединенного датафрейма создали еще 2 датафрейма:\n",
    "- Для пользователей с подпиской\n",
    "- Для пользователей без подписки\n",
    "\n",
    "Визуализировали информацию о расстоянии и времени поездки для пользоватей каждого тарифа.\n",
    "\n",
    "- Для бесплатного тарифа в основном время поездки составляет от 13 до 22 минут, и проезжают от 2 до 4 км.\n",
    "- Для платного тарифа в основном время поездки составляет от 15 до 22 минут, и проезжают около 3 км.\n",
    "\n",
    "Нашли суммарное расстояние, количество поездок и суммарное время для каждого пользователя за каждый месяц - вывели все данные в отдельный датафрейм users_months. Добавили в датафрейм users_months столбец с помесячной выручкой revenue.\n",
    "\n",
    "Проверили гипотезы:\n",
    "- Продолжительность поездки с подпиской больше продолжительности поездок без подписки.\n",
    "- Среднее расстояние поездки пользователей с подпиской не превышает оптимальное расстояние в 3130 метров с точки зрения износа самоката.\n",
    "- Средняя месячная выручка от пользователей с подпиской, больше средней месячной выручки от пользователей без подписки.\n",
    "\n",
    "Рекомендации рекламному отделу: \n",
    "- Пользователи с подпиской являются более выгодными клиентами сервиса, поэтому стоит продвигать подписку Ultra."
   ]
  }
 ],
 "metadata": {
  "ExecuteTimeLog": [
   {
    "duration": 1214,
    "start_time": "2024-05-15T08:39:13.736Z"
   },
   {
    "duration": 72,
    "start_time": "2024-05-15T08:39:14.952Z"
   },
   {
    "duration": 3,
    "start_time": "2024-05-15T08:39:15.026Z"
   },
   {
    "duration": 335,
    "start_time": "2024-05-15T08:39:15.030Z"
   },
   {
    "duration": 5,
    "start_time": "2024-05-15T08:39:15.371Z"
   },
   {
    "duration": 24,
    "start_time": "2024-05-15T08:39:15.378Z"
   },
   {
    "duration": 22,
    "start_time": "2024-05-15T08:39:15.404Z"
   },
   {
    "duration": 9,
    "start_time": "2024-05-15T08:39:15.428Z"
   },
   {
    "duration": 346,
    "start_time": "2024-05-15T08:39:15.439Z"
   },
   {
    "duration": 5,
    "start_time": "2024-05-15T08:39:15.787Z"
   },
   {
    "duration": 21,
    "start_time": "2024-05-15T08:39:15.793Z"
   },
   {
    "duration": 15,
    "start_time": "2024-05-15T08:39:15.815Z"
   },
   {
    "duration": 5,
    "start_time": "2024-05-15T08:39:15.831Z"
   },
   {
    "duration": 31,
    "start_time": "2024-05-15T08:39:15.839Z"
   },
   {
    "duration": 6,
    "start_time": "2024-05-15T08:39:15.872Z"
   },
   {
    "duration": 46,
    "start_time": "2024-05-15T08:39:15.880Z"
   },
   {
    "duration": 283,
    "start_time": "2024-05-15T08:39:15.928Z"
   },
   {
    "duration": 203,
    "start_time": "2024-05-15T08:39:16.213Z"
   },
   {
    "duration": 172,
    "start_time": "2024-05-15T08:39:16.418Z"
   },
   {
    "duration": 334,
    "start_time": "2024-05-15T08:39:16.591Z"
   },
   {
    "duration": 10,
    "start_time": "2024-05-15T08:39:16.927Z"
   },
   {
    "duration": 847,
    "start_time": "2024-05-15T08:39:16.939Z"
   },
   {
    "duration": 11,
    "start_time": "2024-05-15T08:39:17.789Z"
   },
   {
    "duration": 25,
    "start_time": "2024-05-15T08:39:17.801Z"
   },
   {
    "duration": 248,
    "start_time": "2024-05-15T08:39:17.828Z"
   },
   {
    "duration": 16,
    "start_time": "2024-05-15T08:39:18.078Z"
   },
   {
    "duration": 21,
    "start_time": "2024-05-15T08:39:18.095Z"
   },
   {
    "duration": 8,
    "start_time": "2024-05-15T08:39:18.118Z"
   },
   {
    "duration": 22,
    "start_time": "2024-05-15T08:39:18.128Z"
   },
   {
    "duration": 29,
    "start_time": "2024-05-15T08:39:18.152Z"
   },
   {
    "duration": 15,
    "start_time": "2024-05-15T08:39:18.183Z"
   },
   {
    "duration": 21,
    "start_time": "2024-05-15T08:39:18.199Z"
   },
   {
    "duration": 310,
    "start_time": "2024-05-15T08:39:18.222Z"
   },
   {
    "duration": 9,
    "start_time": "2024-05-15T08:39:18.533Z"
   },
   {
    "duration": 60,
    "start_time": "2024-05-15T08:39:18.543Z"
   },
   {
    "duration": 242,
    "start_time": "2024-05-15T08:39:18.604Z"
   },
   {
    "duration": 7,
    "start_time": "2024-05-15T08:39:18.848Z"
   },
   {
    "duration": 23,
    "start_time": "2024-05-15T08:39:18.857Z"
   },
   {
    "duration": 149,
    "start_time": "2024-05-15T08:39:18.882Z"
   },
   {
    "duration": 8,
    "start_time": "2024-05-15T08:39:19.033Z"
   },
   {
    "duration": 7,
    "start_time": "2024-05-15T08:39:19.045Z"
   },
   {
    "duration": 7,
    "start_time": "2024-05-15T08:39:19.070Z"
   },
   {
    "duration": 14,
    "start_time": "2024-05-15T08:39:19.079Z"
   },
   {
    "duration": 14,
    "start_time": "2024-05-15T08:44:06.654Z"
   },
   {
    "duration": 11,
    "start_time": "2024-05-15T08:44:10.049Z"
   },
   {
    "duration": 1377,
    "start_time": "2024-05-15T09:19:32.771Z"
   },
   {
    "duration": 295,
    "start_time": "2024-05-15T09:19:34.150Z"
   },
   {
    "duration": 6,
    "start_time": "2024-05-15T09:19:34.450Z"
   },
   {
    "duration": 281,
    "start_time": "2024-05-15T09:19:34.458Z"
   },
   {
    "duration": 5,
    "start_time": "2024-05-15T09:19:34.741Z"
   },
   {
    "duration": 15,
    "start_time": "2024-05-15T09:19:34.747Z"
   },
   {
    "duration": 5,
    "start_time": "2024-05-15T09:19:34.764Z"
   },
   {
    "duration": 7,
    "start_time": "2024-05-15T09:19:34.771Z"
   },
   {
    "duration": 341,
    "start_time": "2024-05-15T09:19:34.780Z"
   },
   {
    "duration": 6,
    "start_time": "2024-05-15T09:19:35.124Z"
   },
   {
    "duration": 32,
    "start_time": "2024-05-15T09:19:35.132Z"
   },
   {
    "duration": 11,
    "start_time": "2024-05-15T09:19:35.166Z"
   },
   {
    "duration": 7,
    "start_time": "2024-05-15T09:19:35.179Z"
   },
   {
    "duration": 12,
    "start_time": "2024-05-15T09:19:35.188Z"
   },
   {
    "duration": 7,
    "start_time": "2024-05-15T09:19:35.202Z"
   },
   {
    "duration": 16,
    "start_time": "2024-05-15T09:19:35.211Z"
   },
   {
    "duration": 306,
    "start_time": "2024-05-15T09:19:35.228Z"
   },
   {
    "duration": 211,
    "start_time": "2024-05-15T09:19:35.536Z"
   },
   {
    "duration": 178,
    "start_time": "2024-05-15T09:19:35.749Z"
   },
   {
    "duration": 391,
    "start_time": "2024-05-15T09:19:35.929Z"
   },
   {
    "duration": 9,
    "start_time": "2024-05-15T09:19:36.322Z"
   },
   {
    "duration": 757,
    "start_time": "2024-05-15T09:19:36.333Z"
   },
   {
    "duration": 8,
    "start_time": "2024-05-15T09:19:37.092Z"
   },
   {
    "duration": 8,
    "start_time": "2024-05-15T09:19:37.102Z"
   },
   {
    "duration": 228,
    "start_time": "2024-05-15T09:19:37.112Z"
   },
   {
    "duration": 26,
    "start_time": "2024-05-15T09:19:37.342Z"
   },
   {
    "duration": 22,
    "start_time": "2024-05-15T09:19:37.370Z"
   },
   {
    "duration": 6,
    "start_time": "2024-05-15T09:19:37.397Z"
   },
   {
    "duration": 14,
    "start_time": "2024-05-15T09:19:37.405Z"
   },
   {
    "duration": 39,
    "start_time": "2024-05-15T09:19:37.421Z"
   },
   {
    "duration": 16,
    "start_time": "2024-05-15T09:19:37.463Z"
   },
   {
    "duration": 4,
    "start_time": "2024-05-15T09:19:37.481Z"
   },
   {
    "duration": 323,
    "start_time": "2024-05-15T09:19:37.487Z"
   },
   {
    "duration": 9,
    "start_time": "2024-05-15T09:19:37.812Z"
   },
   {
    "duration": 20,
    "start_time": "2024-05-15T09:19:37.822Z"
   },
   {
    "duration": 348,
    "start_time": "2024-05-15T09:19:37.843Z"
   },
   {
    "duration": 9,
    "start_time": "2024-05-15T09:19:38.192Z"
   },
   {
    "duration": 9,
    "start_time": "2024-05-15T09:19:38.202Z"
   },
   {
    "duration": 77,
    "start_time": "2024-05-15T09:19:38.212Z"
   },
   {
    "duration": 6,
    "start_time": "2024-05-15T09:19:38.291Z"
   },
   {
    "duration": 40,
    "start_time": "2024-05-15T09:19:38.299Z"
   },
   {
    "duration": 26,
    "start_time": "2024-05-15T09:19:38.341Z"
   },
   {
    "duration": 18,
    "start_time": "2024-05-15T09:19:38.368Z"
   },
   {
    "duration": 1069,
    "start_time": "2024-05-15T09:38:17.288Z"
   },
   {
    "duration": 72,
    "start_time": "2024-05-15T09:38:18.359Z"
   },
   {
    "duration": 2,
    "start_time": "2024-05-15T09:38:18.433Z"
   },
   {
    "duration": 318,
    "start_time": "2024-05-15T09:38:18.438Z"
   },
   {
    "duration": 6,
    "start_time": "2024-05-15T09:38:18.757Z"
   },
   {
    "duration": 5,
    "start_time": "2024-05-15T09:38:18.770Z"
   },
   {
    "duration": 9,
    "start_time": "2024-05-15T09:38:18.776Z"
   },
   {
    "duration": 5,
    "start_time": "2024-05-15T09:38:18.787Z"
   },
   {
    "duration": 339,
    "start_time": "2024-05-15T09:38:18.794Z"
   },
   {
    "duration": 5,
    "start_time": "2024-05-15T09:38:19.135Z"
   },
   {
    "duration": 29,
    "start_time": "2024-05-15T09:38:19.142Z"
   },
   {
    "duration": 28,
    "start_time": "2024-05-15T09:38:19.173Z"
   },
   {
    "duration": 5,
    "start_time": "2024-05-15T09:38:19.203Z"
   },
   {
    "duration": 30,
    "start_time": "2024-05-15T09:38:19.209Z"
   },
   {
    "duration": 54,
    "start_time": "2024-05-15T09:38:19.240Z"
   },
   {
    "duration": 32,
    "start_time": "2024-05-15T09:38:19.295Z"
   },
   {
    "duration": 294,
    "start_time": "2024-05-15T09:38:19.329Z"
   },
   {
    "duration": 196,
    "start_time": "2024-05-15T09:38:19.625Z"
   },
   {
    "duration": 175,
    "start_time": "2024-05-15T09:38:19.823Z"
   },
   {
    "duration": 311,
    "start_time": "2024-05-15T09:38:20.000Z"
   },
   {
    "duration": 10,
    "start_time": "2024-05-15T09:38:20.313Z"
   },
   {
    "duration": 866,
    "start_time": "2024-05-15T09:38:20.325Z"
   },
   {
    "duration": 9,
    "start_time": "2024-05-15T09:38:21.193Z"
   },
   {
    "duration": 11,
    "start_time": "2024-05-15T09:38:21.203Z"
   },
   {
    "duration": 226,
    "start_time": "2024-05-15T09:38:21.215Z"
   },
   {
    "duration": 16,
    "start_time": "2024-05-15T09:38:21.442Z"
   },
   {
    "duration": 19,
    "start_time": "2024-05-15T09:38:21.460Z"
   },
   {
    "duration": 7,
    "start_time": "2024-05-15T09:38:21.482Z"
   },
   {
    "duration": 28,
    "start_time": "2024-05-15T09:38:21.490Z"
   },
   {
    "duration": 18,
    "start_time": "2024-05-15T09:38:21.519Z"
   },
   {
    "duration": 32,
    "start_time": "2024-05-15T09:38:21.538Z"
   },
   {
    "duration": 3,
    "start_time": "2024-05-15T09:38:21.572Z"
   },
   {
    "duration": 295,
    "start_time": "2024-05-15T09:38:21.577Z"
   },
   {
    "duration": 8,
    "start_time": "2024-05-15T09:38:21.874Z"
   },
   {
    "duration": 9,
    "start_time": "2024-05-15T09:38:21.884Z"
   },
   {
    "duration": 276,
    "start_time": "2024-05-15T09:38:21.895Z"
   },
   {
    "duration": 8,
    "start_time": "2024-05-15T09:38:22.172Z"
   },
   {
    "duration": 10,
    "start_time": "2024-05-15T09:38:22.182Z"
   },
   {
    "duration": 176,
    "start_time": "2024-05-15T09:38:22.194Z"
   },
   {
    "duration": 6,
    "start_time": "2024-05-15T09:38:22.372Z"
   },
   {
    "duration": 19,
    "start_time": "2024-05-15T09:38:22.379Z"
   },
   {
    "duration": 14,
    "start_time": "2024-05-15T09:38:22.400Z"
   },
   {
    "duration": 9,
    "start_time": "2024-05-15T09:38:22.415Z"
   },
   {
    "duration": 11,
    "start_time": "2024-05-15T09:38:51.125Z"
   },
   {
    "duration": 10,
    "start_time": "2024-05-15T09:38:55.748Z"
   }
  ],
  "kernelspec": {
   "display_name": "Python 3 (ipykernel)",
   "language": "python",
   "name": "python3"
  },
  "language_info": {
   "codemirror_mode": {
    "name": "ipython",
    "version": 3
   },
   "file_extension": ".py",
   "mimetype": "text/x-python",
   "name": "python",
   "nbconvert_exporter": "python",
   "pygments_lexer": "ipython3",
   "version": "3.11.4"
  },
  "toc": {
   "base_numbering": 1,
   "nav_menu": {},
   "number_sections": true,
   "sideBar": true,
   "skip_h1_title": true,
   "title_cell": "Table of Contents",
   "title_sidebar": "Contents",
   "toc_cell": false,
   "toc_position": {},
   "toc_section_display": true,
   "toc_window_display": false
  }
 },
 "nbformat": 4,
 "nbformat_minor": 5
}
