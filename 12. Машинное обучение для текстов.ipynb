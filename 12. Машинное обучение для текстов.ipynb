{
 "cells": [
  {
   "cell_type": "markdown",
   "id": "8656dfd9",
   "metadata": {},
   "source": [
    "<h1>Содержание<span class=\"tocSkip\"></span></h1>\n",
    "<div class=\"toc\"><ul class=\"toc-item\"><li><span><a href=\"#Подготовка\" data-toc-modified-id=\"Подготовка-1\"><span class=\"toc-item-num\">1&nbsp;&nbsp;</span>Подготовка</a></span></li><li><span><a href=\"#Обучение\" data-toc-modified-id=\"Обучение-2\"><span class=\"toc-item-num\">2&nbsp;&nbsp;</span>Обучение</a></span></li><li><span><a href=\"#Выводы\" data-toc-modified-id=\"Выводы-3\"><span class=\"toc-item-num\">3&nbsp;&nbsp;</span>Выводы</a></span>"
   ]
  },
  {
   "cell_type": "markdown",
   "id": "0c51b3be",
   "metadata": {},
   "source": [
    "# Проект для «Викишоп»"
   ]
  },
  {
   "cell_type": "markdown",
   "id": "a6a94f82",
   "metadata": {},
   "source": [
    "Интернет-магазин «Викишоп» запускает новый сервис. Теперь пользователи могут редактировать и дополнять описания товаров, как в вики-сообществах. То есть клиенты предлагают свои правки и комментируют изменения других.\n",
    "\n",
    "**Цель работы**\n",
    "\n",
    "Разработать инструмент, который будет искать токсичные комментарии и отправлять их на модерацию. \n",
    "\n",
    "**Требования**\n",
    "\n",
    "Модель со значением метрики качества *F1* не меньше 0.75.\n",
    "\n",
    "`F1-score` — это метрика качества для двоичных и многоклассовых классификационных задач.\\\n",
    "Она представляет собой баланс между точностью и Recall, рассчитывается по формуле:\n",
    "\n",
    "`F1 = 2 * (precision * recall) / (precision + recall)`\n",
    "\n",
    "Эта метрика является более подходящей, чем точность, при неравномерном распределении классов.\n",
    "\n",
    "**Описание данных**\n",
    "\n",
    "Данные находятся в файле `/datasets/toxic_comments.csv`. Столбец *text* в нём содержит текст комментария, а *toxic* — целевой признак.\n",
    "\n",
    "**План выполнения проекта**\n",
    "\n",
    "1. Загрузим и подготовим данные.\n",
    "2. Обучим разные модели отберем лучшую по целевому параметру. \n",
    "3. Сделаем выводы."
   ]
  },
  {
   "cell_type": "markdown",
   "id": "3270aeac",
   "metadata": {},
   "source": [
    "## Подготовка"
   ]
  },
  {
   "cell_type": "markdown",
   "id": "f0319651",
   "metadata": {},
   "source": [
    "### 1.1. Обновление библиотеки"
   ]
  },
  {
   "cell_type": "code",
   "execution_count": 1,
   "id": "b8507a1e",
   "metadata": {},
   "outputs": [],
   "source": [
    "!pip install -U scikit-learn -q"
   ]
  },
  {
   "cell_type": "markdown",
   "id": "f16108c5",
   "metadata": {},
   "source": [
    "### 1.2. Импотр библиотек"
   ]
  },
  {
   "cell_type": "code",
   "execution_count": 2,
   "id": "44f76e2d",
   "metadata": {},
   "outputs": [],
   "source": [
    "import os\n",
    "import pandas as pd\n",
    "import re\n",
    "import nltk\n",
    "import matplotlib.pyplot as plt\n",
    "import warnings\n",
    "warnings.filterwarnings(\"ignore\")\n",
    "\n",
    "try:\n",
    "    import spacy\n",
    "except:\n",
    "    !pip install spacy -q\n",
    "    import spacy\n",
    "\n",
    "from nltk.corpus import stopwords\n",
    "from nltk import pos_tag\n",
    "from nltk.stem import WordNetLemmatizer\n",
    "from sklearn.feature_extraction.text import TfidfVectorizer\n",
    "from sklearn.model_selection import train_test_split\n",
    "from sklearn.pipeline import Pipeline\n",
    "from sklearn.model_selection import GridSearchCV\n",
    "from sklearn.linear_model import LogisticRegression\n",
    "from sklearn.svm import SVC\n",
    "from sklearn.tree import DecisionTreeClassifier\n",
    "from lightgbm import LGBMClassifier\n",
    "from sklearn.metrics import f1_score\n",
    "from sklearn.dummy import DummyClassifier"
   ]
  },
  {
   "cell_type": "markdown",
   "id": "2395d97a",
   "metadata": {},
   "source": [
    "### 1.3. Загрузка данных"
   ]
  },
  {
   "cell_type": "code",
   "execution_count": 3,
   "id": "cdcc4ba8",
   "metadata": {
    "scrolled": false
   },
   "outputs": [
    {
     "data": {
      "text/html": [
       "<div>\n",
       "<style scoped>\n",
       "    .dataframe tbody tr th:only-of-type {\n",
       "        vertical-align: middle;\n",
       "    }\n",
       "\n",
       "    .dataframe tbody tr th {\n",
       "        vertical-align: top;\n",
       "    }\n",
       "\n",
       "    .dataframe thead th {\n",
       "        text-align: right;\n",
       "    }\n",
       "</style>\n",
       "<table border=\"1\" class=\"dataframe\">\n",
       "  <thead>\n",
       "    <tr style=\"text-align: right;\">\n",
       "      <th></th>\n",
       "      <th>text</th>\n",
       "      <th>toxic</th>\n",
       "    </tr>\n",
       "  </thead>\n",
       "  <tbody>\n",
       "    <tr>\n",
       "      <th>0</th>\n",
       "      <td>Explanation\\nWhy the edits made under my usern...</td>\n",
       "      <td>0</td>\n",
       "    </tr>\n",
       "    <tr>\n",
       "      <th>1</th>\n",
       "      <td>D'aww! He matches this background colour I'm s...</td>\n",
       "      <td>0</td>\n",
       "    </tr>\n",
       "    <tr>\n",
       "      <th>2</th>\n",
       "      <td>Hey man, I'm really not trying to edit war. It...</td>\n",
       "      <td>0</td>\n",
       "    </tr>\n",
       "    <tr>\n",
       "      <th>3</th>\n",
       "      <td>\"\\nMore\\nI can't make any real suggestions on ...</td>\n",
       "      <td>0</td>\n",
       "    </tr>\n",
       "    <tr>\n",
       "      <th>4</th>\n",
       "      <td>You, sir, are my hero. Any chance you remember...</td>\n",
       "      <td>0</td>\n",
       "    </tr>\n",
       "  </tbody>\n",
       "</table>\n",
       "</div>"
      ],
      "text/plain": [
       "                                                text  toxic\n",
       "0  Explanation\\nWhy the edits made under my usern...      0\n",
       "1  D'aww! He matches this background colour I'm s...      0\n",
       "2  Hey man, I'm really not trying to edit war. It...      0\n",
       "3  \"\\nMore\\nI can't make any real suggestions on ...      0\n",
       "4  You, sir, are my hero. Any chance you remember...      0"
      ]
     },
     "metadata": {},
     "output_type": "display_data"
    },
    {
     "name": "stdout",
     "output_type": "stream",
     "text": [
      "-----\n",
      "Информация о таблице:\n",
      "\n",
      "<class 'pandas.core.frame.DataFrame'>\n",
      "RangeIndex: 159292 entries, 0 to 159291\n",
      "Data columns (total 2 columns):\n",
      " #   Column  Non-Null Count   Dtype \n",
      "---  ------  --------------   ----- \n",
      " 0   text    159292 non-null  object\n",
      " 1   toxic   159292 non-null  int64 \n",
      "dtypes: int64(1), object(1)\n",
      "memory usage: 2.4+ MB\n",
      "-----\n",
      "Дубликатов в таблице: 0\n"
     ]
    }
   ],
   "source": [
    "pth1 = '/datasets/toxic_comments.csv'\n",
    "pth2 = 'https://code.s3.yandex.net/datasets/toxic_comments.csv'\n",
    "\n",
    "if os.path.exists(pth1):\n",
    "    df = pd.read_csv(pth1, usecols=[1, 2])\n",
    "else:\n",
    "    df = pd.read_csv(pth2, usecols=[1, 2])\n",
    "\n",
    "display(df.head())\n",
    "print('-----\\nИнформация о таблице:\\n')\n",
    "df.info()\n",
    "print(f'-----\\nДубликатов в таблице: {df.duplicated().sum()}')"
   ]
  },
  {
   "cell_type": "markdown",
   "id": "925ffc0d",
   "metadata": {},
   "source": [
    "### 1.4. Токенизация, удаление стоп-слов, лематизация, удаление строк разделителей"
   ]
  },
  {
   "cell_type": "code",
   "execution_count": 4,
   "id": "3b8046ae",
   "metadata": {},
   "outputs": [
    {
     "name": "stderr",
     "output_type": "stream",
     "text": [
      "[nltk_data] Downloading package stopwords to\n",
      "[nltk_data]     C:\\Users\\Даниил\\AppData\\Roaming\\nltk_data...\n",
      "[nltk_data]   Package stopwords is already up-to-date!\n",
      "[nltk_data] Downloading package punkt to\n",
      "[nltk_data]     C:\\Users\\Даниил\\AppData\\Roaming\\nltk_data...\n",
      "[nltk_data]   Package punkt is already up-to-date!\n",
      "[nltk_data] Downloading package wordnet to\n",
      "[nltk_data]     C:\\Users\\Даниил\\AppData\\Roaming\\nltk_data...\n",
      "[nltk_data]   Package wordnet is already up-to-date!\n",
      "[nltk_data] Downloading package averaged_perceptron_tagger to\n",
      "[nltk_data]     C:\\Users\\Даниил\\AppData\\Roaming\\nltk_data...\n",
      "[nltk_data]   Package averaged_perceptron_tagger is already up-to-\n",
      "[nltk_data]       date!\n"
     ]
    },
    {
     "name": "stdout",
     "output_type": "stream",
     "text": [
      "CPU times: total: 39.6 s\n",
      "Wall time: 42.7 s\n"
     ]
    },
    {
     "data": {
      "text/html": [
       "<div>\n",
       "<style scoped>\n",
       "    .dataframe tbody tr th:only-of-type {\n",
       "        vertical-align: middle;\n",
       "    }\n",
       "\n",
       "    .dataframe tbody tr th {\n",
       "        vertical-align: top;\n",
       "    }\n",
       "\n",
       "    .dataframe thead th {\n",
       "        text-align: right;\n",
       "    }\n",
       "</style>\n",
       "<table border=\"1\" class=\"dataframe\">\n",
       "  <thead>\n",
       "    <tr style=\"text-align: right;\">\n",
       "      <th></th>\n",
       "      <th>text</th>\n",
       "      <th>toxic</th>\n",
       "      <th>lemmatize_text</th>\n",
       "    </tr>\n",
       "  </thead>\n",
       "  <tbody>\n",
       "    <tr>\n",
       "      <th>0</th>\n",
       "      <td>Explanation\\nWhy the edits made under my usern...</td>\n",
       "      <td>0</td>\n",
       "      <td>explanation why the edits made under my userna...</td>\n",
       "    </tr>\n",
       "    <tr>\n",
       "      <th>1</th>\n",
       "      <td>D'aww! He matches this background colour I'm s...</td>\n",
       "      <td>0</td>\n",
       "      <td>d aww he matches this background colour i m se...</td>\n",
       "    </tr>\n",
       "    <tr>\n",
       "      <th>2</th>\n",
       "      <td>Hey man, I'm really not trying to edit war. It...</td>\n",
       "      <td>0</td>\n",
       "      <td>hey man i m really not trying to edit war it s...</td>\n",
       "    </tr>\n",
       "    <tr>\n",
       "      <th>3</th>\n",
       "      <td>\"\\nMore\\nI can't make any real suggestions on ...</td>\n",
       "      <td>0</td>\n",
       "      <td>more i can t make any real suggestions on impr...</td>\n",
       "    </tr>\n",
       "    <tr>\n",
       "      <th>4</th>\n",
       "      <td>You, sir, are my hero. Any chance you remember...</td>\n",
       "      <td>0</td>\n",
       "      <td>you sir are my hero any chance you remember wh...</td>\n",
       "    </tr>\n",
       "  </tbody>\n",
       "</table>\n",
       "</div>"
      ],
      "text/plain": [
       "                                                text  toxic  \\\n",
       "0  Explanation\\nWhy the edits made under my usern...      0   \n",
       "1  D'aww! He matches this background colour I'm s...      0   \n",
       "2  Hey man, I'm really not trying to edit war. It...      0   \n",
       "3  \"\\nMore\\nI can't make any real suggestions on ...      0   \n",
       "4  You, sir, are my hero. Any chance you remember...      0   \n",
       "\n",
       "                                      lemmatize_text  \n",
       "0  explanation why the edits made under my userna...  \n",
       "1  d aww he matches this background colour i m se...  \n",
       "2  hey man i m really not trying to edit war it s...  \n",
       "3  more i can t make any real suggestions on impr...  \n",
       "4  you sir are my hero any chance you remember wh...  "
      ]
     },
     "execution_count": 4,
     "metadata": {},
     "output_type": "execute_result"
    }
   ],
   "source": [
    "%%time\n",
    "\n",
    "nltk.download('stopwords')\n",
    "nltk.download('punkt')\n",
    "nltk.download('wordnet')\n",
    "stopwords_english = set(stopwords.words('english'))\n",
    "nltk.download('averaged_perceptron_tagger')\n",
    "\n",
    "def f_preparation(text):\n",
    "    text = text.lower()\n",
    "    text = re.sub(r'[^a-z]', ' ', text)\n",
    "    text = re.sub(r'\\s+', ' ', text)\n",
    "    text = nltk.word_tokenize(text)\n",
    "    text = ' '.join(text)\n",
    "    return text\n",
    "\n",
    "df['lemmatize_text'] = df['text'].apply(f_preparation)\n",
    "df.head()"
   ]
  },
  {
   "cell_type": "code",
   "execution_count": 5,
   "id": "5d97e6fc",
   "metadata": {},
   "outputs": [
    {
     "name": "stdout",
     "output_type": "stream",
     "text": [
      "CPU times: total: 10min 39s\n",
      "Wall time: 12min 50s\n"
     ]
    },
    {
     "data": {
      "text/html": [
       "<div>\n",
       "<style scoped>\n",
       "    .dataframe tbody tr th:only-of-type {\n",
       "        vertical-align: middle;\n",
       "    }\n",
       "\n",
       "    .dataframe tbody tr th {\n",
       "        vertical-align: top;\n",
       "    }\n",
       "\n",
       "    .dataframe thead th {\n",
       "        text-align: right;\n",
       "    }\n",
       "</style>\n",
       "<table border=\"1\" class=\"dataframe\">\n",
       "  <thead>\n",
       "    <tr style=\"text-align: right;\">\n",
       "      <th></th>\n",
       "      <th>text</th>\n",
       "      <th>toxic</th>\n",
       "      <th>lemmatize_text</th>\n",
       "    </tr>\n",
       "  </thead>\n",
       "  <tbody>\n",
       "    <tr>\n",
       "      <th>0</th>\n",
       "      <td>Explanation\\nWhy the edits made under my usern...</td>\n",
       "      <td>0</td>\n",
       "      <td>explanation edits make username hardcore metal...</td>\n",
       "    </tr>\n",
       "    <tr>\n",
       "      <th>1</th>\n",
       "      <td>D'aww! He matches this background colour I'm s...</td>\n",
       "      <td>0</td>\n",
       "      <td>aww match background colour seemingly stick th...</td>\n",
       "    </tr>\n",
       "    <tr>\n",
       "      <th>2</th>\n",
       "      <td>Hey man, I'm really not trying to edit war. It...</td>\n",
       "      <td>0</td>\n",
       "      <td>hey man really try edit war guy constantly rem...</td>\n",
       "    </tr>\n",
       "    <tr>\n",
       "      <th>3</th>\n",
       "      <td>\"\\nMore\\nI can't make any real suggestions on ...</td>\n",
       "      <td>0</td>\n",
       "      <td>make real suggestion improvement wonder sectio...</td>\n",
       "    </tr>\n",
       "    <tr>\n",
       "      <th>4</th>\n",
       "      <td>You, sir, are my hero. Any chance you remember...</td>\n",
       "      <td>0</td>\n",
       "      <td>sir hero chance remember page</td>\n",
       "    </tr>\n",
       "  </tbody>\n",
       "</table>\n",
       "</div>"
      ],
      "text/plain": [
       "                                                text  toxic  \\\n",
       "0  Explanation\\nWhy the edits made under my usern...      0   \n",
       "1  D'aww! He matches this background colour I'm s...      0   \n",
       "2  Hey man, I'm really not trying to edit war. It...      0   \n",
       "3  \"\\nMore\\nI can't make any real suggestions on ...      0   \n",
       "4  You, sir, are my hero. Any chance you remember...      0   \n",
       "\n",
       "                                      lemmatize_text  \n",
       "0  explanation edits make username hardcore metal...  \n",
       "1  aww match background colour seemingly stick th...  \n",
       "2  hey man really try edit war guy constantly rem...  \n",
       "3  make real suggestion improvement wonder sectio...  \n",
       "4                      sir hero chance remember page  "
      ]
     },
     "execution_count": 5,
     "metadata": {},
     "output_type": "execute_result"
    }
   ],
   "source": [
    "%%time\n",
    "\n",
    "wnl = WordNetLemmatizer()\n",
    "\n",
    "def penn2morphy(penntag):\n",
    "    \"\"\" Converts Penn Treebank tags to WordNet. \"\"\"\n",
    "    morphy_tag = {'NN':'n', 'JJ':'a',\n",
    "                  'VB':'v', 'RB':'r'}\n",
    "    try:\n",
    "        return morphy_tag[penntag[:2]]\n",
    "    except:\n",
    "        return 'n' \n",
    "\n",
    "def f_lemmatize_sent(text): \n",
    "    text = [wnl.lemmatize(word.lower(), pos=penn2morphy(tag)) for word, tag in pos_tag(nltk.word_tokenize(text))]\n",
    "    text = [word for word in text if word not in stopwords_english]\n",
    "    return ' '.join(text)\n",
    "     \n",
    "df['lemmatize_text'] = df['lemmatize_text'].apply(f_lemmatize_sent)\n",
    "df.head()"
   ]
  },
  {
   "cell_type": "code",
   "execution_count": 6,
   "id": "56b4389e",
   "metadata": {},
   "outputs": [
    {
     "data": {
      "text/html": [
       "<div>\n",
       "<style scoped>\n",
       "    .dataframe tbody tr th:only-of-type {\n",
       "        vertical-align: middle;\n",
       "    }\n",
       "\n",
       "    .dataframe tbody tr th {\n",
       "        vertical-align: top;\n",
       "    }\n",
       "\n",
       "    .dataframe thead th {\n",
       "        text-align: right;\n",
       "    }\n",
       "</style>\n",
       "<table border=\"1\" class=\"dataframe\">\n",
       "  <thead>\n",
       "    <tr style=\"text-align: right;\">\n",
       "      <th></th>\n",
       "      <th>text</th>\n",
       "      <th>toxic</th>\n",
       "      <th>lemmatize_text</th>\n",
       "    </tr>\n",
       "  </thead>\n",
       "  <tbody>\n",
       "    <tr>\n",
       "      <th>0</th>\n",
       "      <td>Explanation\\nWhy the edits made under my usern...</td>\n",
       "      <td>0</td>\n",
       "      <td>explanation edits make username hardcore metal...</td>\n",
       "    </tr>\n",
       "    <tr>\n",
       "      <th>1</th>\n",
       "      <td>D'aww! He matches this background colour I'm s...</td>\n",
       "      <td>0</td>\n",
       "      <td>aw match background colour semingly stick than...</td>\n",
       "    </tr>\n",
       "    <tr>\n",
       "      <th>2</th>\n",
       "      <td>Hey man, I'm really not trying to edit war. It...</td>\n",
       "      <td>0</td>\n",
       "      <td>hey man realy try edit war guy constantly remo...</td>\n",
       "    </tr>\n",
       "    <tr>\n",
       "      <th>3</th>\n",
       "      <td>\"\\nMore\\nI can't make any real suggestions on ...</td>\n",
       "      <td>0</td>\n",
       "      <td>make real sugestion improvement wonder section...</td>\n",
       "    </tr>\n",
       "    <tr>\n",
       "      <th>4</th>\n",
       "      <td>You, sir, are my hero. Any chance you remember...</td>\n",
       "      <td>0</td>\n",
       "      <td>sir hero chance remember page</td>\n",
       "    </tr>\n",
       "    <tr>\n",
       "      <th>...</th>\n",
       "      <td>...</td>\n",
       "      <td>...</td>\n",
       "      <td>...</td>\n",
       "    </tr>\n",
       "    <tr>\n",
       "      <th>159287</th>\n",
       "      <td>\":::::And for the second time of asking, when ...</td>\n",
       "      <td>0</td>\n",
       "      <td>second time ask view completely contradict cov...</td>\n",
       "    </tr>\n",
       "    <tr>\n",
       "      <th>159288</th>\n",
       "      <td>You should be ashamed of yourself \\n\\nThat is ...</td>\n",
       "      <td>0</td>\n",
       "      <td>ashamed horible thing put talk page</td>\n",
       "    </tr>\n",
       "    <tr>\n",
       "      <th>159289</th>\n",
       "      <td>Spitzer \\n\\nUmm, theres no actual article for ...</td>\n",
       "      <td>0</td>\n",
       "      <td>spitzer um theres actual article prostitution ...</td>\n",
       "    </tr>\n",
       "    <tr>\n",
       "      <th>159290</th>\n",
       "      <td>And it looks like it was actually you who put ...</td>\n",
       "      <td>0</td>\n",
       "      <td>lok like actualy put spedy first version delet...</td>\n",
       "    </tr>\n",
       "    <tr>\n",
       "      <th>159291</th>\n",
       "      <td>\"\\nAnd ... I really don't think you understand...</td>\n",
       "      <td>0</td>\n",
       "      <td>realy think understand come idea bad right awa...</td>\n",
       "    </tr>\n",
       "  </tbody>\n",
       "</table>\n",
       "<p>159292 rows × 3 columns</p>\n",
       "</div>"
      ],
      "text/plain": [
       "                                                     text  toxic  \\\n",
       "0       Explanation\\nWhy the edits made under my usern...      0   \n",
       "1       D'aww! He matches this background colour I'm s...      0   \n",
       "2       Hey man, I'm really not trying to edit war. It...      0   \n",
       "3       \"\\nMore\\nI can't make any real suggestions on ...      0   \n",
       "4       You, sir, are my hero. Any chance you remember...      0   \n",
       "...                                                   ...    ...   \n",
       "159287  \":::::And for the second time of asking, when ...      0   \n",
       "159288  You should be ashamed of yourself \\n\\nThat is ...      0   \n",
       "159289  Spitzer \\n\\nUmm, theres no actual article for ...      0   \n",
       "159290  And it looks like it was actually you who put ...      0   \n",
       "159291  \"\\nAnd ... I really don't think you understand...      0   \n",
       "\n",
       "                                           lemmatize_text  \n",
       "0       explanation edits make username hardcore metal...  \n",
       "1       aw match background colour semingly stick than...  \n",
       "2       hey man realy try edit war guy constantly remo...  \n",
       "3       make real sugestion improvement wonder section...  \n",
       "4                           sir hero chance remember page  \n",
       "...                                                   ...  \n",
       "159287  second time ask view completely contradict cov...  \n",
       "159288                ashamed horible thing put talk page  \n",
       "159289  spitzer um theres actual article prostitution ...  \n",
       "159290  lok like actualy put spedy first version delet...  \n",
       "159291  realy think understand come idea bad right awa...  \n",
       "\n",
       "[159292 rows x 3 columns]"
      ]
     },
     "execution_count": 6,
     "metadata": {},
     "output_type": "execute_result"
    }
   ],
   "source": [
    "def f_conti_rep_char(str1):\n",
    "    tchr = str1.group(0)\n",
    "    if len(tchr) > 1:\n",
    "      return tchr[0:1]\n",
    "\n",
    "def f_check_unique_char(rep, sent_text):\n",
    "    convert = re.sub(r'(\\w)\\1+', rep, sent_text)\n",
    "    return convert\n",
    " \n",
    "df['lemmatize_text'] = df['lemmatize_text'].apply(lambda x : f_check_unique_char(f_conti_rep_char, x))\n",
    "df"
   ]
  },
  {
   "cell_type": "markdown",
   "id": "03d9c548",
   "metadata": {},
   "source": [
    "### 1.5. Проверка разделения по классам"
   ]
  },
  {
   "cell_type": "code",
   "execution_count": 7,
   "id": "41012f5c",
   "metadata": {},
   "outputs": [
    {
     "data": {
      "image/png": "[encoded data removed]",
      "text/plain": [
       "<Figure size 640x480 with 1 Axes>"
      ]
     },
     "metadata": {},
     "output_type": "display_data"
    }
   ],
   "source": [
    "df['toxic'].value_counts().plot.bar()\n",
    "plt.title('Соотношение токсичности комментариев')\n",
    "plt.xlabel('Доля комментариев \"1 = токсичный\"', fontsize=10, color='blue')\n",
    "plt.ylabel(\"Количество комментариев\", fontsize=10, color='orange')\n",
    "plt.show();"
   ]
  },
  {
   "cell_type": "markdown",
   "id": "817ad18e",
   "metadata": {},
   "source": [
    "#### Вывод по загрузке и подготовке данных\n",
    "\n",
    "- проведен импотр библиотек\n",
    "- прочитаны необходимые данные\n",
    "- проведена подготовка данных\n",
    "    - данные приведены к нижнему регистру\n",
    "    - оставлен только буквенный текст\n",
    "    - проведена токенизация\n",
    "    - проведена лематизация слов\n",
    "    - убраны стоп-слова\n",
    "- проведен анализ распределения токсичности по классам"
   ]
  },
  {
   "cell_type": "markdown",
   "id": "a10a2497",
   "metadata": {},
   "source": [
    "## Обучение"
   ]
  },
  {
   "cell_type": "markdown",
   "id": "55ac388f",
   "metadata": {},
   "source": [
    "### 2.1. Разделение на обучающую и тестовую выборки"
   ]
  },
  {
   "cell_type": "markdown",
   "id": "83e06b7f",
   "metadata": {},
   "source": [
    "Для отбора лучшей модели сократим выборку."
   ]
  },
  {
   "cell_type": "code",
   "execution_count": 8,
   "id": "45a77d61",
   "metadata": {},
   "outputs": [],
   "source": [
    "data = df.sample(n=10000, random_state=42).copy()"
   ]
  },
  {
   "cell_type": "code",
   "execution_count": 9,
   "id": "3a4353ed",
   "metadata": {},
   "outputs": [
    {
     "data": {
      "text/plain": [
       "(0.8, 0.2)"
      ]
     },
     "execution_count": 9,
     "metadata": {},
     "output_type": "execute_result"
    }
   ],
   "source": [
    "RANDOM_STATE = 42\n",
    "vectorizer = TfidfVectorizer()\n",
    "\n",
    "X = data['lemmatize_text']\n",
    "y = data['toxic']\n",
    "\n",
    "X_train, X_test, y_train, y_test = train_test_split(X, y, test_size=0.2, random_state=RANDOM_STATE, stratify = y)\n",
    "round(X_train.shape[0]/X.shape[0], 2), round(X_test.shape[0]/X.shape[0], 2)"
   ]
  },
  {
   "cell_type": "markdown",
   "id": "16e191ae",
   "metadata": {},
   "source": [
    "### 2.2. Создание общего `Pipeline`"
   ]
  },
  {
   "cell_type": "code",
   "execution_count": 10,
   "id": "b2861f10",
   "metadata": {},
   "outputs": [],
   "source": [
    "def f_training(model, params):\n",
    "    pipeline = Pipeline([\n",
    "        ('vect', TfidfVectorizer()),\n",
    "        ('model', model)])\n",
    "    grid = GridSearchCV(pipeline, cv = 5, n_jobs = -1, param_grid = params ,scoring = 'f1', verbose = False)\n",
    "    grid.fit(X_train, y_train)\n",
    "    print(f'Значение \"F1-score\" на кросс-валидации: {grid.best_score_:.3}\\n----------')\n",
    "    print(f'Параметры лучшей модели: {grid.best_params_}\\n----------')\n",
    "    return grid"
   ]
  },
  {
   "cell_type": "markdown",
   "id": "057e105d",
   "metadata": {},
   "source": [
    "### 2.3. Обучение `LogisticRegression()`"
   ]
  },
  {
   "cell_type": "code",
   "execution_count": 11,
   "id": "78d618e6",
   "metadata": {},
   "outputs": [
    {
     "name": "stdout",
     "output_type": "stream",
     "text": [
      "Значение \"F1-score\" на кросс-валидации: 0.709\n",
      "----------\n",
      "Параметры лучшей модели: {'model__C': 0.1, 'model__penalty': None}\n",
      "----------\n",
      "CPU times: total: 1.09 s\n",
      "Wall time: 8.04 s\n"
     ]
    }
   ],
   "source": [
    "%%time\n",
    "lr_mod = f_training(LogisticRegression(random_state=RANDOM_STATE), \n",
    "                    {\n",
    "                     'model__C':[0.1, 1.0, 10.0], \n",
    "                     'model__penalty':[\"l1\", \"l2\", \"elasticnet\", None]\n",
    "                    }\n",
    ")"
   ]
  },
  {
   "cell_type": "markdown",
   "id": "12a4291e",
   "metadata": {},
   "source": [
    "### 2.4. Обучение `SVC`"
   ]
  },
  {
   "cell_type": "code",
   "execution_count": 12,
   "id": "3d00d5cb",
   "metadata": {},
   "outputs": [
    {
     "name": "stdout",
     "output_type": "stream",
     "text": [
      "Значение \"F1-score\" на кросс-валидации: 0.636\n",
      "----------\n",
      "Параметры лучшей модели: {'model__degree': 3}\n",
      "----------\n",
      "CPU times: total: 4.75 s\n",
      "Wall time: 15.6 s\n"
     ]
    }
   ],
   "source": [
    "%%time\n",
    "svc_mod = f_training(SVC(kernel='linear', \n",
    "                     random_state=RANDOM_STATE),\n",
    "                     {\n",
    "                      'model__degree':[3, 4]\n",
    "                     }\n",
    ")"
   ]
  },
  {
   "cell_type": "markdown",
   "id": "527155f7",
   "metadata": {},
   "source": [
    "### 2.5. Обучение `LGBMClassifier()`"
   ]
  },
  {
   "cell_type": "code",
   "execution_count": 13,
   "id": "bc762077",
   "metadata": {},
   "outputs": [
    {
     "name": "stdout",
     "output_type": "stream",
     "text": [
      "Значение \"F1-score\" на кросс-валидации: 0.62\n",
      "----------\n",
      "Параметры лучшей модели: {'model__max_depth': 8}\n",
      "----------\n",
      "CPU times: total: 1.94 s\n",
      "Wall time: 10.7 s\n"
     ]
    }
   ],
   "source": [
    "%%time\n",
    "lgbm_mod = f_training(LGBMClassifier(learning_rate=0.1, \n",
    "                                     n_estimators=200, \n",
    "                                     random_state=RANDOM_STATE,\n",
    "                                     n_jobs=1,\n",
    "                                     verbose=-1), \n",
    "                                     {\n",
    "                                      'model__max_depth': [None, 8]\n",
    "                                     }\n",
    ")"
   ]
  },
  {
   "cell_type": "markdown",
   "id": "10e1c34d",
   "metadata": {},
   "source": [
    "### 2.6. Обучение `DecisionTreeClassifier()`"
   ]
  },
  {
   "cell_type": "code",
   "execution_count": 14,
   "id": "4130e13a",
   "metadata": {},
   "outputs": [
    {
     "name": "stdout",
     "output_type": "stream",
     "text": [
      "Значение \"F1-score\" на кросс-валидации: 0.641\n",
      "----------\n",
      "Параметры лучшей модели: {'model__max_depth': None}\n",
      "----------\n",
      "CPU times: total: 6.75 s\n",
      "Wall time: 14.2 s\n"
     ]
    }
   ],
   "source": [
    "%%time\n",
    "dtc_mod = f_training(DecisionTreeClassifier(criterion='gini', random_state=RANDOM_STATE),\n",
    "                     {\n",
    "                      'model__max_depth':[None, 2,4,8]\n",
    "                     }\n",
    ")"
   ]
  },
  {
   "cell_type": "markdown",
   "id": "7b9a8106",
   "metadata": {},
   "source": [
    "### 2.7. Составление сводной таблицы по обученным моделям"
   ]
  },
  {
   "cell_type": "markdown",
   "id": "50b8aec7",
   "metadata": {},
   "source": [
    "Отбор модели с максимальным значением `F1-score` на валидационной выборке"
   ]
  },
  {
   "cell_type": "code",
   "execution_count": 15,
   "id": "61cbb362",
   "metadata": {},
   "outputs": [
    {
     "data": {
      "text/html": [
       "<div>\n",
       "<style scoped>\n",
       "    .dataframe tbody tr th:only-of-type {\n",
       "        vertical-align: middle;\n",
       "    }\n",
       "\n",
       "    .dataframe tbody tr th {\n",
       "        vertical-align: top;\n",
       "    }\n",
       "\n",
       "    .dataframe thead th {\n",
       "        text-align: right;\n",
       "    }\n",
       "</style>\n",
       "<table border=\"1\" class=\"dataframe\">\n",
       "  <thead>\n",
       "    <tr style=\"text-align: right;\">\n",
       "      <th></th>\n",
       "      <th>Model</th>\n",
       "      <th>f1_score</th>\n",
       "    </tr>\n",
       "  </thead>\n",
       "  <tbody>\n",
       "    <tr>\n",
       "      <th>0</th>\n",
       "      <td>LogisticRegression</td>\n",
       "      <td>0.709475</td>\n",
       "    </tr>\n",
       "  </tbody>\n",
       "</table>\n",
       "</div>"
      ],
      "text/plain": [
       "                Model  f1_score\n",
       "0  LogisticRegression  0.709475"
      ]
     },
     "execution_count": 15,
     "metadata": {},
     "output_type": "execute_result"
    }
   ],
   "source": [
    "results = pd.DataFrame({'Model': ['LogisticRegression', 'SVC', 'DecisionTreeClassifier', 'LGBMClassifier'],\n",
    "                        'f1_score': [lr_mod.best_score_, svc_mod.best_score_, dtc_mod.best_score_, lgbm_mod.best_score_]\n",
    "                      })\n",
    "results = results.sort_values('f1_score', ascending=False).reset_index(drop=True).head(1)\n",
    "results"
   ]
  },
  {
   "cell_type": "markdown",
   "id": "48fffd01",
   "metadata": {},
   "source": [
    "### 2.8. Переобучение выбранной модели на полных данных"
   ]
  },
  {
   "cell_type": "code",
   "execution_count": 16,
   "id": "16398295",
   "metadata": {},
   "outputs": [
    {
     "data": {
      "text/plain": [
       "(0.8, 0.2)"
      ]
     },
     "execution_count": 16,
     "metadata": {},
     "output_type": "execute_result"
    }
   ],
   "source": [
    "X = df['lemmatize_text']\n",
    "y = df['toxic']\n",
    "\n",
    "X_train, X_test, y_train, y_test = train_test_split(X, y, test_size=0.2, random_state=RANDOM_STATE, stratify = y)\n",
    "round(X_train.shape[0]/X.shape[0], 2), round(X_test.shape[0]/X.shape[0], 2)"
   ]
  },
  {
   "cell_type": "code",
   "execution_count": 17,
   "id": "81479ebf",
   "metadata": {},
   "outputs": [
    {
     "name": "stdout",
     "output_type": "stream",
     "text": [
      "Значение \"F1-score\" на кросс-валидации: 0.774\n",
      "----------\n",
      "Параметры лучшей модели: {'model__C': 10.0, 'model__penalty': 'l2'}\n",
      "----------\n",
      "CPU times: total: 19.7 s\n",
      "Wall time: 1min 17s\n"
     ]
    }
   ],
   "source": [
    "%%time\n",
    "lr_mod = f_training(LogisticRegression(random_state=RANDOM_STATE), \n",
    "                    {\n",
    "                     'model__C':[0.1, 1.0, 10.0], \n",
    "                     'model__penalty':[\"l1\", \"l2\", \"elasticnet\", None]\n",
    "                    }\n",
    ")"
   ]
  },
  {
   "cell_type": "markdown",
   "id": "abce3e0b",
   "metadata": {},
   "source": [
    "### 2.9. Расчет `F1-score` на тестовой выборке"
   ]
  },
  {
   "cell_type": "markdown",
   "id": "a492be7d",
   "metadata": {},
   "source": [
    "По условию задачи её значение должно быть не меньше 0,75."
   ]
  },
  {
   "cell_type": "code",
   "execution_count": 18,
   "id": "4a044791",
   "metadata": {},
   "outputs": [
    {
     "name": "stdout",
     "output_type": "stream",
     "text": [
      "Метрика F1-score \"LogisticRegression\" на тестовой выборке: 0.772\n"
     ]
    }
   ],
   "source": [
    "print(f'Метрика F1-score \"LogisticRegression\" на тестовой выборке: {lr_mod.score(X_test, y_test):.3f}')"
   ]
  },
  {
   "cell_type": "markdown",
   "id": "3ca31f73",
   "metadata": {},
   "source": [
    "### 2.10. Проверка лучшей модели на адекватность моделью `DummyClassifier`"
   ]
  },
  {
   "cell_type": "code",
   "execution_count": 19,
   "id": "d68bbbe5",
   "metadata": {},
   "outputs": [
    {
     "name": "stdout",
     "output_type": "stream",
     "text": [
      "Метрика F1-score \"DummyClassifier\" на тестовой выборке: 0.097\n",
      "Значение F1-score \"LogisticRegression\" на тестовой выборке лучше \"DummyClassifier\" в: 7.937 раз\n"
     ]
    }
   ],
   "source": [
    "dummy_clf = DummyClassifier(strategy='stratified', random_state=RANDOM_STATE).fit(X_train, y_train)\n",
    "\n",
    "print(f'Метрика F1-score \"DummyClassifier\" на тестовой выборке: {f1_score(y_test, dummy_clf.predict(X_test)):.3f}')\n",
    "print(f'Значение F1-score \"LogisticRegression\" на тестовой выборке лучше \"DummyClassifier\" в: {lr_mod.score(X_test, y_test) / f1_score(y_test, dummy_clf.predict(X_test)) :.3f} раз')"
   ]
  },
  {
   "cell_type": "markdown",
   "id": "b608cbec",
   "metadata": {},
   "source": [
    "#### Вывод по обучению моделей\n",
    "\n",
    "Результат тестирования нашей модели на тествой выборке лучше, чем результат константной модели. Метрика F1-score на тестовой выборке 0.772."
   ]
  },
  {
   "cell_type": "markdown",
   "id": "1c6de403",
   "metadata": {},
   "source": [
    "## Выводы"
   ]
  },
  {
   "cell_type": "markdown",
   "id": "df1ea610",
   "metadata": {},
   "source": [
    "В процессе выполнения работы:\n",
    "- Проведена подготовка данных\n",
    "    - проведен импотр библиотек\n",
    "    - прочитаны необходимые данные\n",
    "    - проведена подготовка данных\n",
    "        - данные приведены к нижнему регистру\n",
    "        - оставлен только буквенный текст\n",
    "        - проведена токенизация\n",
    "        - проведена лематизация слов\n",
    "        - убраны стоп-слова\n",
    "    - проведен анализ распределения токсичности по классам\n",
    "- Проведено разбиение данных на обучающую и тестовую выборку, для ускорения поиска лучшей модели, количестово строк случайным выбором сокращено до 10000\n",
    "- Проведено обучение следующих моделей:\n",
    "    - `LogisticRegression`\n",
    "    - `SVC`\n",
    "    - `LGBMClassifier`\n",
    "    - `DecisionTreeClassifier`\n",
    "- По показателю F1-score отобрана лучшая модель - `LogisticRegression`\n",
    "- Выбранная модель переобучена на полном наборе обучающей выборки, получены следующие значения:\n",
    "    - Метрика F1-score \"LogisticRegression\" на кросс-валидации: 0.77  > 0.75\n",
    "    - Метрика F1-score \"LogisticRegression\" на тестовой выборке: 0.77 > 0.75\n",
    "- Проведено сравнение расчитанных метрик с целевым значением метрики качества F1-score (не меньше 0.75)\n",
    "- Лучшую модель проверена на адекватность моделью `DummyClassifier`\n",
    "\n",
    "\n",
    "- *Результат:\n",
    "Для интернет-магазин «Викишоп» разработан инструмент, который будет искать токсичные комментарии и отправлять их на модерацию, при этом значение качества модели превышает установленный минимальный уровень в 0.75*"
   ]
  },
  {
   "cell_type": "code",
   "execution_count": null,
   "id": "11d1a677",
   "metadata": {},
   "outputs": [],
   "source": []
  }
 ],
 "metadata": {
  "kernelspec": {
   "display_name": "Python 3 (ipykernel)",
   "language": "python",
   "name": "python3"
  },
  "language_info": {
   "codemirror_mode": {
    "name": "ipython",
    "version": 3
   },
   "file_extension": ".py",
   "mimetype": "text/x-python",
   "name": "python",
   "nbconvert_exporter": "python",
   "pygments_lexer": "ipython3",
   "version": "3.11.4"
  },
  "toc": {
   "base_numbering": 1,
   "nav_menu": {},
   "number_sections": true,
   "sideBar": true,
   "skip_h1_title": true,
   "title_cell": "Table of Contents",
   "title_sidebar": "Contents",
   "toc_cell": false,
   "toc_position": {
    "height": "calc(100% - 180px)",
    "left": "10px",
    "top": "150px",
    "width": "165px"
   },
   "toc_section_display": true,
   "toc_window_display": true
  }
 },
 "nbformat": 4,
 "nbformat_minor": 5
}
